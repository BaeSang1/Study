{
  "nbformat": 4,
  "nbformat_minor": 0,
  "metadata": {
    "colab": {
      "provenance": [],
      "toc_visible": true,
      "authorship_tag": "ABX9TyOC1CHwqvafd7KEgQwp8RvT",
      "include_colab_link": true
    },
    "kernelspec": {
      "name": "python3",
      "display_name": "Python 3"
    },
    "language_info": {
      "name": "python"
    }
  },
  "cells": [
    {
      "cell_type": "markdown",
      "metadata": {
        "id": "view-in-github",
        "colab_type": "text"
      },
      "source": [
        "<a href=\"https://colab.research.google.com/github/BaeSang1/Study/blob/main/202304_Colab/python230412.ipynb\" target=\"_parent\"><img src=\"https://colab.research.google.com/assets/colab-badge.svg\" alt=\"Open In Colab\"/></a>"
      ]
    },
    {
      "cell_type": "markdown",
      "source": [
        "# 데이터 타입\n",
        "- int, str ,float, bool"
      ],
      "metadata": {
        "id": "7oJ6571kAD_s"
      }
    },
    {
      "cell_type": "markdown",
      "source": [
        "## int 형\n",
        "- 나이 입력하고 출력\n"
      ],
      "metadata": {
        "id": "0ZR-VuF9APxb"
      }
    },
    {
      "cell_type": "code",
      "source": [
        "num_int = 30\n",
        "print(num_int)\n",
        "print(type(num_int))"
      ],
      "metadata": {
        "colab": {
          "base_uri": "https://localhost:8080/"
        },
        "id": "FB53HlxCAnfi",
        "outputId": "afad8d71-1425-4df8-8e07-f12ff239094a"
      },
      "execution_count": null,
      "outputs": [
        {
          "output_type": "stream",
          "name": "stdout",
          "text": [
            "30\n",
            "<class 'int'>\n"
          ]
        }
      ]
    },
    {
      "cell_type": "markdown",
      "source": [
        "## float형\n",
        "- 키 입력"
      ],
      "metadata": {
        "id": "pnSWHvQyA7RK"
      }
    },
    {
      "cell_type": "code",
      "source": [
        "my_height = 181.8\n",
        "print(my_height)\n",
        "print(type(my_height))"
      ],
      "metadata": {
        "colab": {
          "base_uri": "https://localhost:8080/"
        },
        "id": "Huh14uNrA977",
        "outputId": "5a4fdc61-e114-47cb-cc02-e4e8562a62ad"
      },
      "execution_count": null,
      "outputs": [
        {
          "output_type": "stream",
          "name": "stdout",
          "text": [
            "181.8\n",
            "<class 'float'>\n"
          ]
        }
      ]
    },
    {
      "cell_type": "markdown",
      "source": [
        "## str형\n",
        "- 임의의 닉네임 입력하고 출력"
      ],
      "metadata": {
        "id": "7rv3G0JZBKZ2"
      }
    },
    {
      "cell_type": "code",
      "source": [
        "my_name = 'evan'\n",
        "print(my_name)\n",
        "print(type(my_name))"
      ],
      "metadata": {
        "colab": {
          "base_uri": "https://localhost:8080/"
        },
        "id": "xZYoYD9hBPYC",
        "outputId": "12022dd2-324c-4cfd-9fd6-2fbce6eeb9ea"
      },
      "execution_count": null,
      "outputs": [
        {
          "output_type": "stream",
          "name": "stdout",
          "text": [
            "evan\n",
            "<class 'str'>\n"
          ]
        }
      ]
    },
    {
      "cell_type": "markdown",
      "source": [
        "## boolean형\n",
        "- 논리 : 참/거짓"
      ],
      "metadata": {
        "id": "xHMAKE6VCAXl"
      }
    },
    {
      "cell_type": "code",
      "source": [
        "x = True\n",
        "y = False\n",
        "z = x == y\n",
        "print(z)\n",
        "print(type(z))"
      ],
      "metadata": {
        "colab": {
          "base_uri": "https://localhost:8080/"
        },
        "id": "mWtDnNKACJYb",
        "outputId": "90c44839-608a-4197-dee9-8c001ad26d61"
      },
      "execution_count": null,
      "outputs": [
        {
          "output_type": "stream",
          "name": "stdout",
          "text": [
            "False\n",
            "<class 'bool'>\n"
          ]
        }
      ]
    },
    {
      "cell_type": "markdown",
      "source": [
        "## 사칙연산\n"
      ],
      "metadata": {
        "id": "uvacDwN0Cjxw"
      }
    },
    {
      "cell_type": "code",
      "source": [
        "x = 6\n",
        "y = 3\n",
        "print(x + y)\n",
        "print(x - y)\n",
        "print(x * y)\n",
        "print(x / y)\n",
        "print(x % y) # 나머지\n",
        "print(x // y) # 몫\n",
        "print(x ** y) # 제곱"
      ],
      "metadata": {
        "colab": {
          "base_uri": "https://localhost:8080/"
        },
        "id": "h5BUWPM8Clma",
        "outputId": "6eca2e1c-375b-428b-d989-e323272147d2"
      },
      "execution_count": null,
      "outputs": [
        {
          "output_type": "stream",
          "name": "stdout",
          "text": [
            "9\n",
            "3\n",
            "18\n",
            "2.0\n",
            "0\n",
            "2\n",
            "216\n"
          ]
        }
      ]
    },
    {
      "cell_type": "code",
      "source": [
        "x = 10\n",
        "y = 11\n",
        "\n",
        "print(x == y)\n",
        "print(x != y)\n",
        "print(x > y)\n",
        "print(x < y)"
      ],
      "metadata": {
        "colab": {
          "base_uri": "https://localhost:8080/"
        },
        "id": "pcoGeISpDr-U",
        "outputId": "e72602b0-2ca4-4801-9319-d67fc769a5d9"
      },
      "execution_count": null,
      "outputs": [
        {
          "output_type": "stream",
          "name": "stdout",
          "text": [
            "False\n",
            "True\n",
            "False\n",
            "True\n"
          ]
        }
      ]
    },
    {
      "cell_type": "code",
      "source": [
        "a = int(input('숫자를 입력해주세요 : ')) # 형변환 > class 자체를 변경하는 작업\n",
        "print(a)\n",
        "print(type(a))"
      ],
      "metadata": {
        "colab": {
          "base_uri": "https://localhost:8080/"
        },
        "id": "eUEyczLoEE7z",
        "outputId": "00cd4072-ab33-4e6a-fbea-c297aaea4ece"
      },
      "execution_count": null,
      "outputs": [
        {
          "output_type": "stream",
          "name": "stdout",
          "text": [
            "숫자를 입력해주세요 : 154\n",
            "154\n",
            "<class 'int'>\n"
          ]
        }
      ]
    },
    {
      "cell_type": "markdown",
      "source": [
        "# String\n",
        "- String 연산자(+)"
      ],
      "metadata": {
        "id": "1D0B7f2sEuu4"
      }
    },
    {
      "cell_type": "code",
      "source": [
        "a = \"소년은\"\n",
        "b = \"봄을\"\n",
        "c = \"좋아합니다..!\"\n",
        "\n",
        "letter = a+ \" \"+b+\" \"+c\n",
        "print(letter)"
      ],
      "metadata": {
        "colab": {
          "base_uri": "https://localhost:8080/"
        },
        "id": "38AzARlkEw9t",
        "outputId": "d2804eec-526e-44e9-8b1e-82010c6d42ba"
      },
      "execution_count": null,
      "outputs": [
        {
          "output_type": "stream",
          "name": "stdout",
          "text": [
            "소년은 봄을 좋아합니다..!\n"
          ]
        }
      ]
    },
    {
      "cell_type": "markdown",
      "source": [
        "- String 연산자(*)"
      ],
      "metadata": {
        "id": "vbwF0XWDFa3v"
      }
    },
    {
      "cell_type": "code",
      "source": [
        "x = \"봄\"\n",
        "lyrics = x * 3\n",
        "print(lyrics)"
      ],
      "metadata": {
        "colab": {
          "base_uri": "https://localhost:8080/"
        },
        "id": "p_HTDBBpFc8K",
        "outputId": "a14f2396-42f5-4748-a15f-7da9d22e1912"
      },
      "execution_count": null,
      "outputs": [
        {
          "output_type": "stream",
          "name": "stdout",
          "text": [
            "봄봄봄\n"
          ]
        }
      ]
    },
    {
      "cell_type": "markdown",
      "source": [
        "## 인덱싱 & 슬라이싱\n"
      ],
      "metadata": {
        "id": "jnV6hKw-F3RU"
      }
    },
    {
      "cell_type": "code",
      "source": [
        "x = \"Hello World!!\"\n",
        "\n",
        "#첫번째 문제 : Hello의 알파벳 o 추출\n",
        "print(x.find('o'))\n",
        "print(x[4])\n",
        "print(x.replace('o',''))\n",
        "\n",
        "#두번째 문제 : World의 알파벳 l 추출\n",
        "print(x[-4])\n",
        "\n",
        "#세번째 문제 : World 글자 출력\n",
        "print(x[6:11])"
      ],
      "metadata": {
        "colab": {
          "base_uri": "https://localhost:8080/"
        },
        "id": "XtQHwLEiF8sK",
        "outputId": "a2199524-ba50-44c8-f9c1-39bbc36f63e8"
      },
      "execution_count": null,
      "outputs": [
        {
          "output_type": "stream",
          "name": "stdout",
          "text": [
            "4\n",
            "o\n",
            "Hell Wrld!!\n",
            "l\n",
            "World\n"
          ]
        }
      ]
    },
    {
      "cell_type": "code",
      "source": [
        "x = \"Hello World!!\"\n",
        "print(x[:11:4])"
      ],
      "metadata": {
        "id": "DygH6XxFM8GP",
        "outputId": "2a32e0f6-dabe-4196-dbea-feb83eeef522",
        "colab": {
          "base_uri": "https://localhost:8080/"
        }
      },
      "execution_count": null,
      "outputs": [
        {
          "output_type": "stream",
          "name": "stdout",
          "text": [
            "Hor\n"
          ]
        }
      ]
    },
    {
      "cell_type": "markdown",
      "source": [
        "- immutable 객체\n",
        "- mutable 객체"
      ],
      "metadata": {
        "id": "rdNNUh5WO1zn"
      }
    },
    {
      "cell_type": "code",
      "source": [
        "x = \"Hello World!!\"\n",
        "\n",
        "# 바꾸고 싶은 것, Aello World!!\n",
        "x[0] = 'A'\n",
        "print(x)"
      ],
      "metadata": {
        "colab": {
          "base_uri": "https://localhost:8080/",
          "height": 229
        },
        "id": "ySgX1BDENtRx",
        "outputId": "21f63584-628b-4b18-ef4d-1ad6a5e68b15"
      },
      "execution_count": null,
      "outputs": [
        {
          "output_type": "error",
          "ename": "TypeError",
          "evalue": "ignored",
          "traceback": [
            "\u001b[0;31m---------------------------------------------------------------------------\u001b[0m",
            "\u001b[0;31mTypeError\u001b[0m                                 Traceback (most recent call last)",
            "\u001b[0;32m<ipython-input-41-e18f065e4bb5>\u001b[0m in \u001b[0;36m<cell line: 5>\u001b[0;34m()\u001b[0m\n\u001b[1;32m      3\u001b[0m \u001b[0;31m# 바꾸고 싶은 것, Aello World!!\u001b[0m\u001b[0;34m\u001b[0m\u001b[0;34m\u001b[0m\u001b[0m\n\u001b[1;32m      4\u001b[0m \u001b[0mlist\u001b[0m\u001b[0;34m(\u001b[0m\u001b[0mx\u001b[0m\u001b[0;34m)\u001b[0m\u001b[0;34m\u001b[0m\u001b[0;34m\u001b[0m\u001b[0m\n\u001b[0;32m----> 5\u001b[0;31m \u001b[0mx\u001b[0m\u001b[0;34m[\u001b[0m\u001b[0;36m0\u001b[0m\u001b[0;34m]\u001b[0m \u001b[0;34m=\u001b[0m \u001b[0;34m'A'\u001b[0m\u001b[0;34m\u001b[0m\u001b[0;34m\u001b[0m\u001b[0m\n\u001b[0m\u001b[1;32m      6\u001b[0m \u001b[0mprint\u001b[0m\u001b[0;34m(\u001b[0m\u001b[0mx\u001b[0m\u001b[0;34m)\u001b[0m\u001b[0;34m\u001b[0m\u001b[0;34m\u001b[0m\u001b[0m\n",
            "\u001b[0;31mTypeError\u001b[0m: 'str' object does not support item assignment"
          ]
        }
      ]
    },
    {
      "cell_type": "code",
      "source": [
        "x = \"Hello World!!\"\n",
        "x = 'A' + x[1:]\n",
        "print(x)"
      ],
      "metadata": {
        "colab": {
          "base_uri": "https://localhost:8080/"
        },
        "id": "imO22hIxPKSS",
        "outputId": "6a6c8cd5-ddac-47f4-c86e-649d5c9ab126"
      },
      "execution_count": null,
      "outputs": [
        {
          "output_type": "stream",
          "name": "stdout",
          "text": [
            "Aello World!!\n"
          ]
        }
      ]
    },
    {
      "cell_type": "markdown",
      "source": [
        "## 문자열 메서드\n",
        "\n",
        "- 참고자료\n",
        "  + 점프투 파이썬 \n",
        "  https://wikidocs.net/13\n",
        "\n",
        "  + 공식 홈페이지\n",
        "  https://docs.python.org/3/library/string.html"
      ],
      "metadata": {
        "id": "FlWSFhIsPlqH"
      }
    },
    {
      "cell_type": "code",
      "source": [
        "sampleText = \"hello, kaggle\"\n",
        "upper_text = sampleText.upper()\n",
        "print(upper_text)"
      ],
      "metadata": {
        "colab": {
          "base_uri": "https://localhost:8080/"
        },
        "id": "vKVaeNgoP8iU",
        "outputId": "a1c51ea2-1ea1-41c9-88ac-24860f75b1f9"
      },
      "execution_count": null,
      "outputs": [
        {
          "output_type": "stream",
          "name": "stdout",
          "text": [
            "HELLO, KAGGLE\n"
          ]
        }
      ]
    },
    {
      "cell_type": "code",
      "source": [
        "sampleNum = 123\n",
        "upper_text = sampleNum.upper()\n",
        "print(upper_text)"
      ],
      "metadata": {
        "colab": {
          "base_uri": "https://localhost:8080/",
          "height": 211
        },
        "id": "tccIZR-CQKU-",
        "outputId": "4bd062a5-516d-4723-a9e6-4ebd52d2e4c1"
      },
      "execution_count": null,
      "outputs": [
        {
          "output_type": "error",
          "ename": "AttributeError",
          "evalue": "ignored",
          "traceback": [
            "\u001b[0;31m---------------------------------------------------------------------------\u001b[0m",
            "\u001b[0;31mAttributeError\u001b[0m                            Traceback (most recent call last)",
            "\u001b[0;32m<ipython-input-46-5e5d9b81bb48>\u001b[0m in \u001b[0;36m<cell line: 2>\u001b[0;34m()\u001b[0m\n\u001b[1;32m      1\u001b[0m \u001b[0msampleNum\u001b[0m \u001b[0;34m=\u001b[0m \u001b[0;36m123\u001b[0m\u001b[0;34m\u001b[0m\u001b[0;34m\u001b[0m\u001b[0m\n\u001b[0;32m----> 2\u001b[0;31m \u001b[0mupper_text\u001b[0m \u001b[0;34m=\u001b[0m \u001b[0msampleNum\u001b[0m\u001b[0;34m.\u001b[0m\u001b[0mupper\u001b[0m\u001b[0;34m(\u001b[0m\u001b[0;34m)\u001b[0m\u001b[0;34m\u001b[0m\u001b[0;34m\u001b[0m\u001b[0m\n\u001b[0m\u001b[1;32m      3\u001b[0m \u001b[0mprint\u001b[0m\u001b[0;34m(\u001b[0m\u001b[0mupper_text\u001b[0m\u001b[0;34m)\u001b[0m\u001b[0;34m\u001b[0m\u001b[0;34m\u001b[0m\u001b[0m\n",
            "\u001b[0;31mAttributeError\u001b[0m: 'int' object has no attribute 'upper'"
          ]
        }
      ]
    },
    {
      "cell_type": "markdown",
      "source": [
        "## 파이썬에서의 클래스 ⇒ 변수, **메서드 정의**\n",
        "\n",
        "- 특정한 목적을 가지고 클래스 생성\n",
        "\n",
        "  + str 클래스\n",
        "\n",
        "  + 영어 / 대소문자 > 자유롭게 변환 기능 필요 ex)  upper(),lower()\n",
        "\n",
        "  + int 클래스 upper() 에러"
      ],
      "metadata": {
        "id": "ySXz0GsBRmxn"
      }
    },
    {
      "cell_type": "code",
      "source": [
        "sampleText = \"hello, kaggle\"\n",
        "upper_text = sampleText.replace('hello','welcome')\n",
        "print(upper_text)"
      ],
      "metadata": {
        "id": "y4q1d0v6Tws6"
      },
      "execution_count": null,
      "outputs": []
    },
    {
      "cell_type": "code",
      "source": [
        "sampleText = \"hello, kaggle\"\n",
        "upper_text = sampleText.split(sep = ',')\n",
        "print(upper_text)"
      ],
      "metadata": {
        "colab": {
          "base_uri": "https://localhost:8080/"
        },
        "id": "_nTYHqwGUTsn",
        "outputId": "a6d42bf7-04fc-4227-a29f-e9870ba37469"
      },
      "execution_count": null,
      "outputs": [
        {
          "output_type": "stream",
          "name": "stdout",
          "text": [
            "['hello', ' kaggle']\n"
          ]
        }
      ]
    },
    {
      "cell_type": "markdown",
      "source": [
        "# List 리스트\n",
        "- 시퀀스 데이터에요!\n",
        "- 반복문 쓸 수 있어요!!"
      ],
      "metadata": {
        "id": "BUxIU8HCz9cO"
      }
    },
    {
      "cell_type": "code",
      "source": [
        "from collections.abc import Sequence\n",
        "my_num = 100\n",
        "my_list = [1,2,3]\n",
        "my_string =  \"hello\"\n",
        "\n",
        "isSeq1 = isinstance(my_num,Sequence)\n",
        "print(isSeq1)\n",
        "\n",
        "isSeq2 = isinstance(my_list,Sequence)\n",
        "print(isSeq2)\n",
        "\n",
        "isSeq3 = isinstance(my_string,Sequence)\n",
        "print(isSeq3)"
      ],
      "metadata": {
        "colab": {
          "base_uri": "https://localhost:8080/"
        },
        "id": "NonEVITS0VsF",
        "outputId": "963b3ceb-87c6-4320-f38b-0c45cdbf8557"
      },
      "execution_count": null,
      "outputs": [
        {
          "output_type": "stream",
          "name": "stdout",
          "text": [
            "False\n",
            "True\n",
            "True\n"
          ]
        }
      ]
    },
    {
      "cell_type": "markdown",
      "source": [
        "## 인덱싱 & 슬라이싱\n",
        "- 문자열 했던 것과 동일 방식"
      ],
      "metadata": {
        "id": "XWcJFaD92Wmu"
      }
    },
    {
      "cell_type": "code",
      "source": [
        "a = ['가','나','다']\n",
        "print(a[0])\n",
        "print(a[1])\n",
        "print(a[2])\n",
        "print(a[-1])"
      ],
      "metadata": {
        "colab": {
          "base_uri": "https://localhost:8080/"
        },
        "id": "sLxcznEC2bK8",
        "outputId": "6ecc9880-b894-4b65-f922-99e0025861b7"
      },
      "execution_count": null,
      "outputs": [
        {
          "output_type": "stream",
          "name": "stdout",
          "text": [
            "가\n",
            "나\n",
            "다\n",
            "다\n"
          ]
        }
      ]
    },
    {
      "cell_type": "code",
      "source": [
        "a = [1,2,['Apple','사과','Banana','키위'],4,5,6]\n",
        "print(a)\n",
        "\n",
        "# 문제 : Banana 글자에서 알파벳 a(글자의 마지막) 추출\n",
        "print(a[2][2][-1])\n",
        "\n",
        "# 문제 : 사과 Banana 키위 추출\n",
        "print(a[2][1:])\n",
        "\n"
      ],
      "metadata": {
        "colab": {
          "base_uri": "https://localhost:8080/"
        },
        "id": "Bo34u2YI2uik",
        "outputId": "33674e1b-fd77-415e-d7d1-6ca700dac9a3"
      },
      "execution_count": null,
      "outputs": [
        {
          "output_type": "stream",
          "name": "stdout",
          "text": [
            "[1, 2, ['Apple', '사과', 'Banana', '키위'], 4, 5, 6]\n",
            "a\n",
            "['사과', 'Banana', '키위']\n"
          ]
        }
      ]
    },
    {
      "cell_type": "markdown",
      "source": [
        "## 리스트 메서드\n",
        "\n",
        "-  insert() : 리스트의 특정 위치에 요소 삽입\n",
        "- append() : 리스트 끝에 요소 삽입\n",
        "- remove() : 리스트의 특정 요소 삭제\n",
        "- pop() : 리스트의 마지막 요소 출력 후 삭제\n",
        "- count() : 리스트 내 특정 요소의 개수 등등\n",
        "- 공식 홈페이지 참고\n",
        "https://docs.python.org/3/tutorial/datastructures.html"
      ],
      "metadata": {
        "id": "B5sIZwyY5DyK"
      }
    },
    {
      "cell_type": "markdown",
      "source": [
        "### append()"
      ],
      "metadata": {
        "id": "kNo4ARZF6uFr"
      }
    },
    {
      "cell_type": "code",
      "source": [
        "x = ['가','나']\n",
        "texts = ['다','라','마']\n",
        "x.append(texts)\n",
        "print(x)"
      ],
      "metadata": {
        "colab": {
          "base_uri": "https://localhost:8080/"
        },
        "id": "Ua_RnKYf6sWy",
        "outputId": "d96a84cc-3550-4fbf-d5d3-11429457e855"
      },
      "execution_count": 65,
      "outputs": [
        {
          "output_type": "stream",
          "name": "stdout",
          "text": [
            "['가', '나', ['다', '라', '마']]\n"
          ]
        }
      ]
    },
    {
      "cell_type": "markdown",
      "source": [
        "### extend()"
      ],
      "metadata": {
        "id": "Z198ts1V7uMc"
      }
    },
    {
      "cell_type": "code",
      "source": [
        "x = ['가','나']\n",
        "texts = ['다','라','마']\n",
        "x.extend(texts)\n",
        "print(x)"
      ],
      "metadata": {
        "colab": {
          "base_uri": "https://localhost:8080/"
        },
        "id": "e_NTbhp17vtN",
        "outputId": "3637b3ef-00c7-4f88-cab8-471e020a984e"
      },
      "execution_count": 66,
      "outputs": [
        {
          "output_type": "stream",
          "name": "stdout",
          "text": [
            "['가', '나', '다', '라', '마']\n"
          ]
        }
      ]
    },
    {
      "cell_type": "markdown",
      "source": [
        "### insert()\n",
        "- 인덱스 번호를 지정한 후, 새로운 값 추가"
      ],
      "metadata": {
        "id": "hnfxe9pZ79Zz"
      }
    },
    {
      "cell_type": "code",
      "source": [
        "x = ['가','나','라']\n",
        "x.insert(2, '다')\n",
        "x.insert(1, '각')\n",
        "print(x)"
      ],
      "metadata": {
        "colab": {
          "base_uri": "https://localhost:8080/"
        },
        "id": "wSNOr26E7-jl",
        "outputId": "f65439a1-8435-4e75-c9b7-08aae32fa578"
      },
      "execution_count": 69,
      "outputs": [
        {
          "output_type": "stream",
          "name": "stdout",
          "text": [
            "['가', '각', '나', '다', '라']\n"
          ]
        }
      ]
    },
    {
      "cell_type": "markdown",
      "source": [
        "### 리스트 값 변경\n"
      ],
      "metadata": {
        "id": "VaSzoD698ds0"
      }
    },
    {
      "cell_type": "code",
      "source": [
        "x = ['가','나','C','라']\n",
        "x[2] = '다'\n",
        "print(x)"
      ],
      "metadata": {
        "colab": {
          "base_uri": "https://localhost:8080/"
        },
        "id": "8G9JW1xV8fx-",
        "outputId": "dc20ec44-4aa8-42d8-91cb-7ebffbba39d6"
      },
      "execution_count": 70,
      "outputs": [
        {
          "output_type": "stream",
          "name": "stdout",
          "text": [
            "['가', '나', '다', '라']\n"
          ]
        }
      ]
    },
    {
      "cell_type": "markdown",
      "source": [
        "### 리스트 값 삭제\n"
      ],
      "metadata": {
        "id": "OixmdqjD81DE"
      }
    },
    {
      "cell_type": "code",
      "source": [
        "dates = [412,111,702,613,1010]\n",
        "\n",
        "# 412 제거\n",
        "dates.remove(412)\n",
        "print(dates)\n",
        "\n",
        "#del\n",
        "del dates[0]\n",
        "print(dates)"
      ],
      "metadata": {
        "colab": {
          "base_uri": "https://localhost:8080/"
        },
        "id": "aK_lh6Q782Wk",
        "outputId": "a15a7350-7691-42bd-b22d-019b8adb3f92"
      },
      "execution_count": 73,
      "outputs": [
        {
          "output_type": "stream",
          "name": "stdout",
          "text": [
            "[111, 702, 613, 1010]\n",
            "[702, 613, 1010]\n"
          ]
        }
      ]
    },
    {
      "cell_type": "markdown",
      "source": [
        "# 튜플\n",
        "- 리스트와 비슷함(차이점 확인)"
      ],
      "metadata": {
        "id": "k3aFz7W6Blu9"
      }
    },
    {
      "cell_type": "code",
      "source": [
        "my_tuple = ('Hi',1,2,3)\n",
        "print(my_tuple)\n",
        "print(type(my_tuple))"
      ],
      "metadata": {
        "colab": {
          "base_uri": "https://localhost:8080/"
        },
        "id": "_PY0ocJZBruO",
        "outputId": "e1d5c6d8-5da9-42b3-d447-49d829d73fdd"
      },
      "execution_count": 76,
      "outputs": [
        {
          "output_type": "stream",
          "name": "stdout",
          "text": [
            "('Hi', 1, 2, 3)\n",
            "<class 'tuple'>\n"
          ]
        }
      ]
    },
    {
      "cell_type": "code",
      "source": [
        "my_nested_tuple = ('Hi',[1,2,3],(3.11,3.23,2.12))\n",
        "print(my_nested_tuple)\n",
        "print(type(my_nested_tuple))"
      ],
      "metadata": {
        "colab": {
          "base_uri": "https://localhost:8080/"
        },
        "id": "MIrFs0s9B9me",
        "outputId": "26154f7f-3a2c-45d7-fd31-34be345d4481"
      },
      "execution_count": 86,
      "outputs": [
        {
          "output_type": "stream",
          "name": "stdout",
          "text": [
            "('Hi', [1, 2, 3], (3.11, 3.23, 2.12))\n",
            "<class 'tuple'>\n"
          ]
        }
      ]
    },
    {
      "cell_type": "markdown",
      "source": [
        "### 리스트와 튜플의 공통점\n",
        "- 인덱싱 & 슬라이싱 동일함\n"
      ],
      "metadata": {
        "id": "fT9O4hvdCT-1"
      }
    },
    {
      "cell_type": "code",
      "source": [
        "a = (1,2,('Apple','사과','Banana','키위'),4,5,6)\n",
        "print(a)\n",
        "print(type(a))"
      ],
      "metadata": {
        "colab": {
          "base_uri": "https://localhost:8080/"
        },
        "id": "lEiCiNKiCfGl",
        "outputId": "6b4d31af-6bde-4ad2-ca44-55b47864c8ac"
      },
      "execution_count": 80,
      "outputs": [
        {
          "output_type": "stream",
          "name": "stdout",
          "text": [
            "(1, 2, ('Apple', '사과', 'Banana', '키위'), 4, 5, 6)\n",
            "<class 'tuple'>\n"
          ]
        }
      ]
    },
    {
      "cell_type": "code",
      "source": [
        "print(a[2][2][-1])"
      ],
      "metadata": {
        "colab": {
          "base_uri": "https://localhost:8080/"
        },
        "id": "h_F9H2tiC7U9",
        "outputId": "ee9c725b-1fba-4f5c-ff99-a39ad556aa6e"
      },
      "execution_count": 81,
      "outputs": [
        {
          "output_type": "stream",
          "name": "stdout",
          "text": [
            "a\n"
          ]
        }
      ]
    },
    {
      "cell_type": "code",
      "source": [
        "# 리스트의 값 수정\n",
        "x = ['가','나','C','라']\n",
        "x[2] = '다'\n",
        "print(x)\n",
        "\n",
        "y = ('가','나','C','라')\n",
        "y[2] = '다'\n",
        "print(y)"
      ],
      "metadata": {
        "colab": {
          "base_uri": "https://localhost:8080/",
          "height": 248
        },
        "id": "0oEQa9o1DEpt",
        "outputId": "43b9e32c-ae47-48cf-b82d-9a99067a8623"
      },
      "execution_count": 82,
      "outputs": [
        {
          "output_type": "stream",
          "name": "stdout",
          "text": [
            "['가', '나', '다', '라']\n"
          ]
        },
        {
          "output_type": "error",
          "ename": "TypeError",
          "evalue": "ignored",
          "traceback": [
            "\u001b[0;31m---------------------------------------------------------------------------\u001b[0m",
            "\u001b[0;31mTypeError\u001b[0m                                 Traceback (most recent call last)",
            "\u001b[0;32m<ipython-input-82-961139f78b51>\u001b[0m in \u001b[0;36m<cell line: 7>\u001b[0;34m()\u001b[0m\n\u001b[1;32m      5\u001b[0m \u001b[0;34m\u001b[0m\u001b[0m\n\u001b[1;32m      6\u001b[0m \u001b[0my\u001b[0m \u001b[0;34m=\u001b[0m \u001b[0;34m(\u001b[0m\u001b[0;34m'가'\u001b[0m\u001b[0;34m,\u001b[0m\u001b[0;34m'나'\u001b[0m\u001b[0;34m,\u001b[0m\u001b[0;34m'C'\u001b[0m\u001b[0;34m,\u001b[0m\u001b[0;34m'라'\u001b[0m\u001b[0;34m)\u001b[0m\u001b[0;34m\u001b[0m\u001b[0;34m\u001b[0m\u001b[0m\n\u001b[0;32m----> 7\u001b[0;31m \u001b[0my\u001b[0m\u001b[0;34m[\u001b[0m\u001b[0;36m2\u001b[0m\u001b[0;34m]\u001b[0m \u001b[0;34m=\u001b[0m \u001b[0;34m'다'\u001b[0m\u001b[0;34m\u001b[0m\u001b[0;34m\u001b[0m\u001b[0m\n\u001b[0m\u001b[1;32m      8\u001b[0m \u001b[0mprint\u001b[0m\u001b[0;34m(\u001b[0m\u001b[0my\u001b[0m\u001b[0;34m)\u001b[0m\u001b[0;34m\u001b[0m\u001b[0;34m\u001b[0m\u001b[0m\n",
            "\u001b[0;31mTypeError\u001b[0m: 'tuple' object does not support item assignment"
          ]
        }
      ]
    },
    {
      "cell_type": "code",
      "source": [
        "dates = (412,111,702,613,1010)\n",
        "\n",
        "#del\n",
        "del dates[0]\n",
        "dates   # 튜플은 imutable 객체이므로 수정,삭제 불가"
      ],
      "metadata": {
        "colab": {
          "base_uri": "https://localhost:8080/",
          "height": 229
        },
        "id": "6H9pqwd1DdaY",
        "outputId": "ccf560ef-2943-423e-dc57-e52a3daba1d2"
      },
      "execution_count": 84,
      "outputs": [
        {
          "output_type": "error",
          "ename": "TypeError",
          "evalue": "ignored",
          "traceback": [
            "\u001b[0;31m---------------------------------------------------------------------------\u001b[0m",
            "\u001b[0;31mTypeError\u001b[0m                                 Traceback (most recent call last)",
            "\u001b[0;32m<ipython-input-84-783cc3b33634>\u001b[0m in \u001b[0;36m<cell line: 4>\u001b[0;34m()\u001b[0m\n\u001b[1;32m      2\u001b[0m \u001b[0;34m\u001b[0m\u001b[0m\n\u001b[1;32m      3\u001b[0m \u001b[0;31m#del\u001b[0m\u001b[0;34m\u001b[0m\u001b[0;34m\u001b[0m\u001b[0m\n\u001b[0;32m----> 4\u001b[0;31m \u001b[0;32mdel\u001b[0m \u001b[0mdates\u001b[0m\u001b[0;34m[\u001b[0m\u001b[0;36m0\u001b[0m\u001b[0;34m]\u001b[0m\u001b[0;34m\u001b[0m\u001b[0;34m\u001b[0m\u001b[0m\n\u001b[0m\u001b[1;32m      5\u001b[0m \u001b[0mdates\u001b[0m\u001b[0;34m\u001b[0m\u001b[0;34m\u001b[0m\u001b[0m\n",
            "\u001b[0;31mTypeError\u001b[0m: 'tuple' object doesn't support item deletion"
          ]
        }
      ]
    },
    {
      "cell_type": "code",
      "source": [
        "my_tuple = ('가','가','나','나','나','다','라')\n",
        "print(my_tuple.count('나'))\n",
        "print(my_tuple.index('나'))"
      ],
      "metadata": {
        "colab": {
          "base_uri": "https://localhost:8080/"
        },
        "id": "QLVaOtiNEZfW",
        "outputId": "a3247245-6208-4e4f-9138-1739941156df"
      },
      "execution_count": 89,
      "outputs": [
        {
          "output_type": "stream",
          "name": "stdout",
          "text": [
            "3\n",
            "2\n"
          ]
        }
      ]
    },
    {
      "cell_type": "markdown",
      "source": [
        "# 딕셔너리"
      ],
      "metadata": {
        "id": "eN3nprezFUEO"
      }
    },
    {
      "cell_type": "code",
      "source": [
        "my_dic = {\n",
        "    'name' :'sangil',\n",
        "    'age' : 31,\n",
        "    'job' : 'student',\n",
        "    'shopping' : [1,2,3]\n",
        "}\n",
        "\n",
        "# 문제 : 태어난 도시를 추가하세요, key_value값 알아서 작성\n",
        "my_dic['city'] = 'Suwon'\n",
        "\n",
        "# 값 수정\n",
        "my_dic['shopping'] = '가방'\n",
        "\n",
        "# 가방 제거\n",
        "del my_dic['shopping']\n",
        "my_dic"
      ],
      "metadata": {
        "colab": {
          "base_uri": "https://localhost:8080/"
        },
        "id": "atLfR-8JFXH-",
        "outputId": "11793d1e-48f3-4a0a-bd82-571c3ee59fbf"
      },
      "execution_count": 98,
      "outputs": [
        {
          "output_type": "execute_result",
          "data": {
            "text/plain": [
              "{'name': 'sangil', 'age': 31, 'job': 'student', 'city': 'Suwon'}"
            ]
          },
          "metadata": {},
          "execution_count": 98
        }
      ]
    },
    {
      "cell_type": "code",
      "source": [
        "print(my_dic.keys())\n",
        "print(my_dic.values())\n",
        "print(my_dic.items())"
      ],
      "metadata": {
        "colab": {
          "base_uri": "https://localhost:8080/"
        },
        "id": "fQPAh3FOIaQL",
        "outputId": "b021fd3b-6cc6-401b-81be-9c4728721c1f"
      },
      "execution_count": 106,
      "outputs": [
        {
          "output_type": "stream",
          "name": "stdout",
          "text": [
            "dict_keys(['name', 'age', 'job', 'city'])\n",
            "dict_values(['sangil', 31, 'student', 'Suwon'])\n",
            "dict_items([('name', 'sangil'), ('age', 31), ('job', 'student'), ('city', 'Suwon')])\n"
          ]
        }
      ]
    },
    {
      "cell_type": "code",
      "source": [
        "result = list(my_dic.items())\n",
        "result[0][0]"
      ],
      "metadata": {
        "colab": {
          "base_uri": "https://localhost:8080/",
          "height": 35
        },
        "id": "ofSeLV6qI3j4",
        "outputId": "76e417b7-f76a-4e91-9012-4674655dc73a"
      },
      "execution_count": 113,
      "outputs": [
        {
          "output_type": "execute_result",
          "data": {
            "text/plain": [
              "'name'"
            ],
            "application/vnd.google.colaboratory.intrinsic+json": {
              "type": "string"
            }
          },
          "metadata": {},
          "execution_count": 113
        }
      ]
    },
    {
      "cell_type": "code",
      "source": [
        "for i in my_dic:\n",
        "  print(i)\n",
        "  print(my_dic[i])"
      ],
      "metadata": {
        "colab": {
          "base_uri": "https://localhost:8080/"
        },
        "id": "BswdMSaNJHty",
        "outputId": "d8b4c340-2bd7-42e6-be75-2a4c6639c54f"
      },
      "execution_count": 110,
      "outputs": [
        {
          "output_type": "stream",
          "name": "stdout",
          "text": [
            "name\n",
            "sangil\n",
            "age\n",
            "31\n",
            "job\n",
            "student\n",
            "city\n",
            "Suwon\n"
          ]
        }
      ]
    },
    {
      "cell_type": "markdown",
      "source": [
        "# 조건문\n",
        "- if-else, if문 작성 시 ,조건 => True"
      ],
      "metadata": {
        "id": "MkCR2OlXJdYQ"
      }
    },
    {
      "cell_type": "code",
      "source": [
        "a = 30\n",
        "b = 31\n",
        "if a>=b:\n",
        "  print(\"a가 크다\")\n",
        "else:\n",
        "  print('b가 크다')"
      ],
      "metadata": {
        "colab": {
          "base_uri": "https://localhost:8080/"
        },
        "id": "LOMUw7eOJnao",
        "outputId": "5eb3c876-40ae-443c-dd5b-3b1ba7698266"
      },
      "execution_count": 114,
      "outputs": [
        {
          "output_type": "stream",
          "name": "stdout",
          "text": [
            "b가 크다\n"
          ]
        }
      ]
    },
    {
      "cell_type": "code",
      "source": [
        "a = 30\n",
        "b = 31\n",
        "if a > b:\n",
        "  print(\"a가 크다\")\n",
        "elif a == b:\n",
        "  print('a와 b가 같다')\n",
        "else:\n",
        "  print('b가 크다')"
      ],
      "metadata": {
        "colab": {
          "base_uri": "https://localhost:8080/"
        },
        "id": "IdiBdU3NJ0Oz",
        "outputId": "effbc3a5-e419-4af6-8695-4c6c02cb7647"
      },
      "execution_count": 117,
      "outputs": [
        {
          "output_type": "stream",
          "name": "stdout",
          "text": [
            "b가 크다\n"
          ]
        }
      ]
    },
    {
      "cell_type": "code",
      "source": [
        "# input() 임의의 숫자를 입력 1~100\n",
        "# 90점 이상 'A', 80점 이상 'B', 나머지 'C'\n",
        "\n",
        "n = int(input('숫자를 입력하세요 : '))\n",
        "if n >= 90:\n",
        "  print('A')\n",
        "elif n >= 80:\n",
        "  print('B')\n",
        "else:\n",
        "  print('C')"
      ],
      "metadata": {
        "colab": {
          "base_uri": "https://localhost:8080/"
        },
        "id": "xddWVbDyKB-y",
        "outputId": "137969c4-fc49-4d20-b267-19f3bf4bc605"
      },
      "execution_count": 120,
      "outputs": [
        {
          "output_type": "stream",
          "name": "stdout",
          "text": [
            "숫자를 입력하세요 : 91\n",
            "A\n"
          ]
        }
      ]
    }
  ]
}