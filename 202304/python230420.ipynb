{
  "nbformat": 4,
  "nbformat_minor": 0,
  "metadata": {
    "colab": {
      "provenance": [],
      "include_colab_link": true
    },
    "kernelspec": {
      "name": "python3",
      "display_name": "Python 3"
    },
    "language_info": {
      "name": "python"
    }
  },
  "cells": [
    {
      "cell_type": "markdown",
      "metadata": {
        "id": "view-in-github",
        "colab_type": "text"
      },
      "source": [
        "<a href=\"https://colab.research.google.com/github/BaeSang1/Study/blob/main/202304/python230420.ipynb\" target=\"_parent\"><img src=\"https://colab.research.google.com/assets/colab-badge.svg\" alt=\"Open In Colab\"/></a>"
      ]
    },
    {
      "cell_type": "code",
      "execution_count": 1,
      "metadata": {
        "id": "s4Ofgr2_Km7r"
      },
      "outputs": [],
      "source": [
        "## 데이터"
      ]
    },
    {
      "cell_type": "code",
      "source": [
        "from google.colab import drive\n",
        "drive.mount('/content/drive')"
      ],
      "metadata": {
        "colab": {
          "base_uri": "https://localhost:8080/"
        },
        "id": "eE3NrKvRLA6x",
        "outputId": "33b23057-6bf5-46dd-b57f-64b16bda585e"
      },
      "execution_count": 2,
      "outputs": [
        {
          "output_type": "stream",
          "name": "stdout",
          "text": [
            "Mounted at /content/drive\n"
          ]
        }
      ]
    },
    {
      "cell_type": "code",
      "source": [
        "DATA_PATH = \"/content/drive/MyDrive/Colab Notebooks/2023/연세IT/kaggle/house-prices-advanced-regression-techniques (1)/\"\n",
        "DATA_PATH"
      ],
      "metadata": {
        "colab": {
          "base_uri": "https://localhost:8080/",
          "height": 35
        },
        "id": "xNV119APLQzb",
        "outputId": "d4f84d99-df99-4dc5-fea0-3852aeb3c6a6"
      },
      "execution_count": 3,
      "outputs": [
        {
          "output_type": "execute_result",
          "data": {
            "text/plain": [
              "'/content/drive/MyDrive/Colab Notebooks/2023/연세IT/kaggle/house-prices-advanced-regression-techniques (1)/'"
            ],
            "application/vnd.google.colaboratory.intrinsic+json": {
              "type": "string"
            }
          },
          "metadata": {},
          "execution_count": 3
        }
      ]
    },
    {
      "cell_type": "code",
      "source": [
        "# train 데이터 불러오기\n",
        "import pandas as pd\n",
        "train = pd.read_csv(DATA_PATH + \"train.csv\")\n",
        "train.head()"
      ],
      "metadata": {
        "colab": {
          "base_uri": "https://localhost:8080/",
          "height": 300
        },
        "id": "NxYSJlfdLvva",
        "outputId": "1835398b-537b-4ba2-ffcc-f99e6863eb44"
      },
      "execution_count": 4,
      "outputs": [
        {
          "output_type": "execute_result",
          "data": {
            "text/plain": [
              "   Id  MSSubClass MSZoning  LotFrontage  LotArea Street Alley LotShape  \\\n",
              "0   1          60       RL         65.0     8450   Pave   NaN      Reg   \n",
              "1   2          20       RL         80.0     9600   Pave   NaN      Reg   \n",
              "2   3          60       RL         68.0    11250   Pave   NaN      IR1   \n",
              "3   4          70       RL         60.0     9550   Pave   NaN      IR1   \n",
              "4   5          60       RL         84.0    14260   Pave   NaN      IR1   \n",
              "\n",
              "  LandContour Utilities  ... PoolArea PoolQC Fence MiscFeature MiscVal MoSold  \\\n",
              "0         Lvl    AllPub  ...        0    NaN   NaN         NaN       0      2   \n",
              "1         Lvl    AllPub  ...        0    NaN   NaN         NaN       0      5   \n",
              "2         Lvl    AllPub  ...        0    NaN   NaN         NaN       0      9   \n",
              "3         Lvl    AllPub  ...        0    NaN   NaN         NaN       0      2   \n",
              "4         Lvl    AllPub  ...        0    NaN   NaN         NaN       0     12   \n",
              "\n",
              "  YrSold  SaleType  SaleCondition  SalePrice  \n",
              "0   2008        WD         Normal     208500  \n",
              "1   2007        WD         Normal     181500  \n",
              "2   2008        WD         Normal     223500  \n",
              "3   2006        WD        Abnorml     140000  \n",
              "4   2008        WD         Normal     250000  \n",
              "\n",
              "[5 rows x 81 columns]"
            ],
            "text/html": [
              "\n",
              "  <div id=\"df-e0cb508e-7365-40bc-aa13-a39b309e7264\">\n",
              "    <div class=\"colab-df-container\">\n",
              "      <div>\n",
              "<style scoped>\n",
              "    .dataframe tbody tr th:only-of-type {\n",
              "        vertical-align: middle;\n",
              "    }\n",
              "\n",
              "    .dataframe tbody tr th {\n",
              "        vertical-align: top;\n",
              "    }\n",
              "\n",
              "    .dataframe thead th {\n",
              "        text-align: right;\n",
              "    }\n",
              "</style>\n",
              "<table border=\"1\" class=\"dataframe\">\n",
              "  <thead>\n",
              "    <tr style=\"text-align: right;\">\n",
              "      <th></th>\n",
              "      <th>Id</th>\n",
              "      <th>MSSubClass</th>\n",
              "      <th>MSZoning</th>\n",
              "      <th>LotFrontage</th>\n",
              "      <th>LotArea</th>\n",
              "      <th>Street</th>\n",
              "      <th>Alley</th>\n",
              "      <th>LotShape</th>\n",
              "      <th>LandContour</th>\n",
              "      <th>Utilities</th>\n",
              "      <th>...</th>\n",
              "      <th>PoolArea</th>\n",
              "      <th>PoolQC</th>\n",
              "      <th>Fence</th>\n",
              "      <th>MiscFeature</th>\n",
              "      <th>MiscVal</th>\n",
              "      <th>MoSold</th>\n",
              "      <th>YrSold</th>\n",
              "      <th>SaleType</th>\n",
              "      <th>SaleCondition</th>\n",
              "      <th>SalePrice</th>\n",
              "    </tr>\n",
              "  </thead>\n",
              "  <tbody>\n",
              "    <tr>\n",
              "      <th>0</th>\n",
              "      <td>1</td>\n",
              "      <td>60</td>\n",
              "      <td>RL</td>\n",
              "      <td>65.0</td>\n",
              "      <td>8450</td>\n",
              "      <td>Pave</td>\n",
              "      <td>NaN</td>\n",
              "      <td>Reg</td>\n",
              "      <td>Lvl</td>\n",
              "      <td>AllPub</td>\n",
              "      <td>...</td>\n",
              "      <td>0</td>\n",
              "      <td>NaN</td>\n",
              "      <td>NaN</td>\n",
              "      <td>NaN</td>\n",
              "      <td>0</td>\n",
              "      <td>2</td>\n",
              "      <td>2008</td>\n",
              "      <td>WD</td>\n",
              "      <td>Normal</td>\n",
              "      <td>208500</td>\n",
              "    </tr>\n",
              "    <tr>\n",
              "      <th>1</th>\n",
              "      <td>2</td>\n",
              "      <td>20</td>\n",
              "      <td>RL</td>\n",
              "      <td>80.0</td>\n",
              "      <td>9600</td>\n",
              "      <td>Pave</td>\n",
              "      <td>NaN</td>\n",
              "      <td>Reg</td>\n",
              "      <td>Lvl</td>\n",
              "      <td>AllPub</td>\n",
              "      <td>...</td>\n",
              "      <td>0</td>\n",
              "      <td>NaN</td>\n",
              "      <td>NaN</td>\n",
              "      <td>NaN</td>\n",
              "      <td>0</td>\n",
              "      <td>5</td>\n",
              "      <td>2007</td>\n",
              "      <td>WD</td>\n",
              "      <td>Normal</td>\n",
              "      <td>181500</td>\n",
              "    </tr>\n",
              "    <tr>\n",
              "      <th>2</th>\n",
              "      <td>3</td>\n",
              "      <td>60</td>\n",
              "      <td>RL</td>\n",
              "      <td>68.0</td>\n",
              "      <td>11250</td>\n",
              "      <td>Pave</td>\n",
              "      <td>NaN</td>\n",
              "      <td>IR1</td>\n",
              "      <td>Lvl</td>\n",
              "      <td>AllPub</td>\n",
              "      <td>...</td>\n",
              "      <td>0</td>\n",
              "      <td>NaN</td>\n",
              "      <td>NaN</td>\n",
              "      <td>NaN</td>\n",
              "      <td>0</td>\n",
              "      <td>9</td>\n",
              "      <td>2008</td>\n",
              "      <td>WD</td>\n",
              "      <td>Normal</td>\n",
              "      <td>223500</td>\n",
              "    </tr>\n",
              "    <tr>\n",
              "      <th>3</th>\n",
              "      <td>4</td>\n",
              "      <td>70</td>\n",
              "      <td>RL</td>\n",
              "      <td>60.0</td>\n",
              "      <td>9550</td>\n",
              "      <td>Pave</td>\n",
              "      <td>NaN</td>\n",
              "      <td>IR1</td>\n",
              "      <td>Lvl</td>\n",
              "      <td>AllPub</td>\n",
              "      <td>...</td>\n",
              "      <td>0</td>\n",
              "      <td>NaN</td>\n",
              "      <td>NaN</td>\n",
              "      <td>NaN</td>\n",
              "      <td>0</td>\n",
              "      <td>2</td>\n",
              "      <td>2006</td>\n",
              "      <td>WD</td>\n",
              "      <td>Abnorml</td>\n",
              "      <td>140000</td>\n",
              "    </tr>\n",
              "    <tr>\n",
              "      <th>4</th>\n",
              "      <td>5</td>\n",
              "      <td>60</td>\n",
              "      <td>RL</td>\n",
              "      <td>84.0</td>\n",
              "      <td>14260</td>\n",
              "      <td>Pave</td>\n",
              "      <td>NaN</td>\n",
              "      <td>IR1</td>\n",
              "      <td>Lvl</td>\n",
              "      <td>AllPub</td>\n",
              "      <td>...</td>\n",
              "      <td>0</td>\n",
              "      <td>NaN</td>\n",
              "      <td>NaN</td>\n",
              "      <td>NaN</td>\n",
              "      <td>0</td>\n",
              "      <td>12</td>\n",
              "      <td>2008</td>\n",
              "      <td>WD</td>\n",
              "      <td>Normal</td>\n",
              "      <td>250000</td>\n",
              "    </tr>\n",
              "  </tbody>\n",
              "</table>\n",
              "<p>5 rows × 81 columns</p>\n",
              "</div>\n",
              "      <button class=\"colab-df-convert\" onclick=\"convertToInteractive('df-e0cb508e-7365-40bc-aa13-a39b309e7264')\"\n",
              "              title=\"Convert this dataframe to an interactive table.\"\n",
              "              style=\"display:none;\">\n",
              "        \n",
              "  <svg xmlns=\"http://www.w3.org/2000/svg\" height=\"24px\"viewBox=\"0 0 24 24\"\n",
              "       width=\"24px\">\n",
              "    <path d=\"M0 0h24v24H0V0z\" fill=\"none\"/>\n",
              "    <path d=\"M18.56 5.44l.94 2.06.94-2.06 2.06-.94-2.06-.94-.94-2.06-.94 2.06-2.06.94zm-11 1L8.5 8.5l.94-2.06 2.06-.94-2.06-.94L8.5 2.5l-.94 2.06-2.06.94zm10 10l.94 2.06.94-2.06 2.06-.94-2.06-.94-.94-2.06-.94 2.06-2.06.94z\"/><path d=\"M17.41 7.96l-1.37-1.37c-.4-.4-.92-.59-1.43-.59-.52 0-1.04.2-1.43.59L10.3 9.45l-7.72 7.72c-.78.78-.78 2.05 0 2.83L4 21.41c.39.39.9.59 1.41.59.51 0 1.02-.2 1.41-.59l7.78-7.78 2.81-2.81c.8-.78.8-2.07 0-2.86zM5.41 20L4 18.59l7.72-7.72 1.47 1.35L5.41 20z\"/>\n",
              "  </svg>\n",
              "      </button>\n",
              "      \n",
              "  <style>\n",
              "    .colab-df-container {\n",
              "      display:flex;\n",
              "      flex-wrap:wrap;\n",
              "      gap: 12px;\n",
              "    }\n",
              "\n",
              "    .colab-df-convert {\n",
              "      background-color: #E8F0FE;\n",
              "      border: none;\n",
              "      border-radius: 50%;\n",
              "      cursor: pointer;\n",
              "      display: none;\n",
              "      fill: #1967D2;\n",
              "      height: 32px;\n",
              "      padding: 0 0 0 0;\n",
              "      width: 32px;\n",
              "    }\n",
              "\n",
              "    .colab-df-convert:hover {\n",
              "      background-color: #E2EBFA;\n",
              "      box-shadow: 0px 1px 2px rgba(60, 64, 67, 0.3), 0px 1px 3px 1px rgba(60, 64, 67, 0.15);\n",
              "      fill: #174EA6;\n",
              "    }\n",
              "\n",
              "    [theme=dark] .colab-df-convert {\n",
              "      background-color: #3B4455;\n",
              "      fill: #D2E3FC;\n",
              "    }\n",
              "\n",
              "    [theme=dark] .colab-df-convert:hover {\n",
              "      background-color: #434B5C;\n",
              "      box-shadow: 0px 1px 3px 1px rgba(0, 0, 0, 0.15);\n",
              "      filter: drop-shadow(0px 1px 2px rgba(0, 0, 0, 0.3));\n",
              "      fill: #FFFFFF;\n",
              "    }\n",
              "  </style>\n",
              "\n",
              "      <script>\n",
              "        const buttonEl =\n",
              "          document.querySelector('#df-e0cb508e-7365-40bc-aa13-a39b309e7264 button.colab-df-convert');\n",
              "        buttonEl.style.display =\n",
              "          google.colab.kernel.accessAllowed ? 'block' : 'none';\n",
              "\n",
              "        async function convertToInteractive(key) {\n",
              "          const element = document.querySelector('#df-e0cb508e-7365-40bc-aa13-a39b309e7264');\n",
              "          const dataTable =\n",
              "            await google.colab.kernel.invokeFunction('convertToInteractive',\n",
              "                                                     [key], {});\n",
              "          if (!dataTable) return;\n",
              "\n",
              "          const docLinkHtml = 'Like what you see? Visit the ' +\n",
              "            '<a target=\"_blank\" href=https://colab.research.google.com/notebooks/data_table.ipynb>data table notebook</a>'\n",
              "            + ' to learn more about interactive tables.';\n",
              "          element.innerHTML = '';\n",
              "          dataTable['output_type'] = 'display_data';\n",
              "          await google.colab.output.renderOutput(dataTable, element);\n",
              "          const docLink = document.createElement('div');\n",
              "          docLink.innerHTML = docLinkHtml;\n",
              "          element.appendChild(docLink);\n",
              "        }\n",
              "      </script>\n",
              "    </div>\n",
              "  </div>\n",
              "  "
            ]
          },
          "metadata": {},
          "execution_count": 4
        }
      ]
    },
    {
      "cell_type": "code",
      "source": [
        "train.info() # 데이터 타입 / 컬럼명 확인 / 결측치 확인"
      ],
      "metadata": {
        "colab": {
          "base_uri": "https://localhost:8080/"
        },
        "id": "ILG7LcpXMaeR",
        "outputId": "83dfcb6c-c7e8-4a8b-802f-cffd499c5b81"
      },
      "execution_count": 5,
      "outputs": [
        {
          "output_type": "stream",
          "name": "stdout",
          "text": [
            "<class 'pandas.core.frame.DataFrame'>\n",
            "RangeIndex: 1460 entries, 0 to 1459\n",
            "Data columns (total 81 columns):\n",
            " #   Column         Non-Null Count  Dtype  \n",
            "---  ------         --------------  -----  \n",
            " 0   Id             1460 non-null   int64  \n",
            " 1   MSSubClass     1460 non-null   int64  \n",
            " 2   MSZoning       1460 non-null   object \n",
            " 3   LotFrontage    1201 non-null   float64\n",
            " 4   LotArea        1460 non-null   int64  \n",
            " 5   Street         1460 non-null   object \n",
            " 6   Alley          91 non-null     object \n",
            " 7   LotShape       1460 non-null   object \n",
            " 8   LandContour    1460 non-null   object \n",
            " 9   Utilities      1460 non-null   object \n",
            " 10  LotConfig      1460 non-null   object \n",
            " 11  LandSlope      1460 non-null   object \n",
            " 12  Neighborhood   1460 non-null   object \n",
            " 13  Condition1     1460 non-null   object \n",
            " 14  Condition2     1460 non-null   object \n",
            " 15  BldgType       1460 non-null   object \n",
            " 16  HouseStyle     1460 non-null   object \n",
            " 17  OverallQual    1460 non-null   int64  \n",
            " 18  OverallCond    1460 non-null   int64  \n",
            " 19  YearBuilt      1460 non-null   int64  \n",
            " 20  YearRemodAdd   1460 non-null   int64  \n",
            " 21  RoofStyle      1460 non-null   object \n",
            " 22  RoofMatl       1460 non-null   object \n",
            " 23  Exterior1st    1460 non-null   object \n",
            " 24  Exterior2nd    1460 non-null   object \n",
            " 25  MasVnrType     1452 non-null   object \n",
            " 26  MasVnrArea     1452 non-null   float64\n",
            " 27  ExterQual      1460 non-null   object \n",
            " 28  ExterCond      1460 non-null   object \n",
            " 29  Foundation     1460 non-null   object \n",
            " 30  BsmtQual       1423 non-null   object \n",
            " 31  BsmtCond       1423 non-null   object \n",
            " 32  BsmtExposure   1422 non-null   object \n",
            " 33  BsmtFinType1   1423 non-null   object \n",
            " 34  BsmtFinSF1     1460 non-null   int64  \n",
            " 35  BsmtFinType2   1422 non-null   object \n",
            " 36  BsmtFinSF2     1460 non-null   int64  \n",
            " 37  BsmtUnfSF      1460 non-null   int64  \n",
            " 38  TotalBsmtSF    1460 non-null   int64  \n",
            " 39  Heating        1460 non-null   object \n",
            " 40  HeatingQC      1460 non-null   object \n",
            " 41  CentralAir     1460 non-null   object \n",
            " 42  Electrical     1459 non-null   object \n",
            " 43  1stFlrSF       1460 non-null   int64  \n",
            " 44  2ndFlrSF       1460 non-null   int64  \n",
            " 45  LowQualFinSF   1460 non-null   int64  \n",
            " 46  GrLivArea      1460 non-null   int64  \n",
            " 47  BsmtFullBath   1460 non-null   int64  \n",
            " 48  BsmtHalfBath   1460 non-null   int64  \n",
            " 49  FullBath       1460 non-null   int64  \n",
            " 50  HalfBath       1460 non-null   int64  \n",
            " 51  BedroomAbvGr   1460 non-null   int64  \n",
            " 52  KitchenAbvGr   1460 non-null   int64  \n",
            " 53  KitchenQual    1460 non-null   object \n",
            " 54  TotRmsAbvGrd   1460 non-null   int64  \n",
            " 55  Functional     1460 non-null   object \n",
            " 56  Fireplaces     1460 non-null   int64  \n",
            " 57  FireplaceQu    770 non-null    object \n",
            " 58  GarageType     1379 non-null   object \n",
            " 59  GarageYrBlt    1379 non-null   float64\n",
            " 60  GarageFinish   1379 non-null   object \n",
            " 61  GarageCars     1460 non-null   int64  \n",
            " 62  GarageArea     1460 non-null   int64  \n",
            " 63  GarageQual     1379 non-null   object \n",
            " 64  GarageCond     1379 non-null   object \n",
            " 65  PavedDrive     1460 non-null   object \n",
            " 66  WoodDeckSF     1460 non-null   int64  \n",
            " 67  OpenPorchSF    1460 non-null   int64  \n",
            " 68  EnclosedPorch  1460 non-null   int64  \n",
            " 69  3SsnPorch      1460 non-null   int64  \n",
            " 70  ScreenPorch    1460 non-null   int64  \n",
            " 71  PoolArea       1460 non-null   int64  \n",
            " 72  PoolQC         7 non-null      object \n",
            " 73  Fence          281 non-null    object \n",
            " 74  MiscFeature    54 non-null     object \n",
            " 75  MiscVal        1460 non-null   int64  \n",
            " 76  MoSold         1460 non-null   int64  \n",
            " 77  YrSold         1460 non-null   int64  \n",
            " 78  SaleType       1460 non-null   object \n",
            " 79  SaleCondition  1460 non-null   object \n",
            " 80  SalePrice      1460 non-null   int64  \n",
            "dtypes: float64(3), int64(35), object(43)\n",
            "memory usage: 924.0+ KB\n"
          ]
        }
      ]
    },
    {
      "cell_type": "code",
      "source": [
        "# test 데이터 불러오기\n",
        "test = pd.read_csv(DATA_PATH + \"test.csv\")\n",
        "test.head()"
      ],
      "metadata": {
        "colab": {
          "base_uri": "https://localhost:8080/",
          "height": 300
        },
        "id": "nsaxHkb9Mf-x",
        "outputId": "54931130-dcad-405b-a039-eaf20a4d9121"
      },
      "execution_count": 6,
      "outputs": [
        {
          "output_type": "execute_result",
          "data": {
            "text/plain": [
              "     Id  MSSubClass MSZoning  LotFrontage  LotArea Street Alley LotShape  \\\n",
              "0  1461          20       RH         80.0    11622   Pave   NaN      Reg   \n",
              "1  1462          20       RL         81.0    14267   Pave   NaN      IR1   \n",
              "2  1463          60       RL         74.0    13830   Pave   NaN      IR1   \n",
              "3  1464          60       RL         78.0     9978   Pave   NaN      IR1   \n",
              "4  1465         120       RL         43.0     5005   Pave   NaN      IR1   \n",
              "\n",
              "  LandContour Utilities  ... ScreenPorch PoolArea PoolQC  Fence MiscFeature  \\\n",
              "0         Lvl    AllPub  ...         120        0    NaN  MnPrv         NaN   \n",
              "1         Lvl    AllPub  ...           0        0    NaN    NaN        Gar2   \n",
              "2         Lvl    AllPub  ...           0        0    NaN  MnPrv         NaN   \n",
              "3         Lvl    AllPub  ...           0        0    NaN    NaN         NaN   \n",
              "4         HLS    AllPub  ...         144        0    NaN    NaN         NaN   \n",
              "\n",
              "  MiscVal MoSold  YrSold  SaleType  SaleCondition  \n",
              "0       0      6    2010        WD         Normal  \n",
              "1   12500      6    2010        WD         Normal  \n",
              "2       0      3    2010        WD         Normal  \n",
              "3       0      6    2010        WD         Normal  \n",
              "4       0      1    2010        WD         Normal  \n",
              "\n",
              "[5 rows x 80 columns]"
            ],
            "text/html": [
              "\n",
              "  <div id=\"df-1a1d3155-a7fa-48e5-bc7a-a505b121f90c\">\n",
              "    <div class=\"colab-df-container\">\n",
              "      <div>\n",
              "<style scoped>\n",
              "    .dataframe tbody tr th:only-of-type {\n",
              "        vertical-align: middle;\n",
              "    }\n",
              "\n",
              "    .dataframe tbody tr th {\n",
              "        vertical-align: top;\n",
              "    }\n",
              "\n",
              "    .dataframe thead th {\n",
              "        text-align: right;\n",
              "    }\n",
              "</style>\n",
              "<table border=\"1\" class=\"dataframe\">\n",
              "  <thead>\n",
              "    <tr style=\"text-align: right;\">\n",
              "      <th></th>\n",
              "      <th>Id</th>\n",
              "      <th>MSSubClass</th>\n",
              "      <th>MSZoning</th>\n",
              "      <th>LotFrontage</th>\n",
              "      <th>LotArea</th>\n",
              "      <th>Street</th>\n",
              "      <th>Alley</th>\n",
              "      <th>LotShape</th>\n",
              "      <th>LandContour</th>\n",
              "      <th>Utilities</th>\n",
              "      <th>...</th>\n",
              "      <th>ScreenPorch</th>\n",
              "      <th>PoolArea</th>\n",
              "      <th>PoolQC</th>\n",
              "      <th>Fence</th>\n",
              "      <th>MiscFeature</th>\n",
              "      <th>MiscVal</th>\n",
              "      <th>MoSold</th>\n",
              "      <th>YrSold</th>\n",
              "      <th>SaleType</th>\n",
              "      <th>SaleCondition</th>\n",
              "    </tr>\n",
              "  </thead>\n",
              "  <tbody>\n",
              "    <tr>\n",
              "      <th>0</th>\n",
              "      <td>1461</td>\n",
              "      <td>20</td>\n",
              "      <td>RH</td>\n",
              "      <td>80.0</td>\n",
              "      <td>11622</td>\n",
              "      <td>Pave</td>\n",
              "      <td>NaN</td>\n",
              "      <td>Reg</td>\n",
              "      <td>Lvl</td>\n",
              "      <td>AllPub</td>\n",
              "      <td>...</td>\n",
              "      <td>120</td>\n",
              "      <td>0</td>\n",
              "      <td>NaN</td>\n",
              "      <td>MnPrv</td>\n",
              "      <td>NaN</td>\n",
              "      <td>0</td>\n",
              "      <td>6</td>\n",
              "      <td>2010</td>\n",
              "      <td>WD</td>\n",
              "      <td>Normal</td>\n",
              "    </tr>\n",
              "    <tr>\n",
              "      <th>1</th>\n",
              "      <td>1462</td>\n",
              "      <td>20</td>\n",
              "      <td>RL</td>\n",
              "      <td>81.0</td>\n",
              "      <td>14267</td>\n",
              "      <td>Pave</td>\n",
              "      <td>NaN</td>\n",
              "      <td>IR1</td>\n",
              "      <td>Lvl</td>\n",
              "      <td>AllPub</td>\n",
              "      <td>...</td>\n",
              "      <td>0</td>\n",
              "      <td>0</td>\n",
              "      <td>NaN</td>\n",
              "      <td>NaN</td>\n",
              "      <td>Gar2</td>\n",
              "      <td>12500</td>\n",
              "      <td>6</td>\n",
              "      <td>2010</td>\n",
              "      <td>WD</td>\n",
              "      <td>Normal</td>\n",
              "    </tr>\n",
              "    <tr>\n",
              "      <th>2</th>\n",
              "      <td>1463</td>\n",
              "      <td>60</td>\n",
              "      <td>RL</td>\n",
              "      <td>74.0</td>\n",
              "      <td>13830</td>\n",
              "      <td>Pave</td>\n",
              "      <td>NaN</td>\n",
              "      <td>IR1</td>\n",
              "      <td>Lvl</td>\n",
              "      <td>AllPub</td>\n",
              "      <td>...</td>\n",
              "      <td>0</td>\n",
              "      <td>0</td>\n",
              "      <td>NaN</td>\n",
              "      <td>MnPrv</td>\n",
              "      <td>NaN</td>\n",
              "      <td>0</td>\n",
              "      <td>3</td>\n",
              "      <td>2010</td>\n",
              "      <td>WD</td>\n",
              "      <td>Normal</td>\n",
              "    </tr>\n",
              "    <tr>\n",
              "      <th>3</th>\n",
              "      <td>1464</td>\n",
              "      <td>60</td>\n",
              "      <td>RL</td>\n",
              "      <td>78.0</td>\n",
              "      <td>9978</td>\n",
              "      <td>Pave</td>\n",
              "      <td>NaN</td>\n",
              "      <td>IR1</td>\n",
              "      <td>Lvl</td>\n",
              "      <td>AllPub</td>\n",
              "      <td>...</td>\n",
              "      <td>0</td>\n",
              "      <td>0</td>\n",
              "      <td>NaN</td>\n",
              "      <td>NaN</td>\n",
              "      <td>NaN</td>\n",
              "      <td>0</td>\n",
              "      <td>6</td>\n",
              "      <td>2010</td>\n",
              "      <td>WD</td>\n",
              "      <td>Normal</td>\n",
              "    </tr>\n",
              "    <tr>\n",
              "      <th>4</th>\n",
              "      <td>1465</td>\n",
              "      <td>120</td>\n",
              "      <td>RL</td>\n",
              "      <td>43.0</td>\n",
              "      <td>5005</td>\n",
              "      <td>Pave</td>\n",
              "      <td>NaN</td>\n",
              "      <td>IR1</td>\n",
              "      <td>HLS</td>\n",
              "      <td>AllPub</td>\n",
              "      <td>...</td>\n",
              "      <td>144</td>\n",
              "      <td>0</td>\n",
              "      <td>NaN</td>\n",
              "      <td>NaN</td>\n",
              "      <td>NaN</td>\n",
              "      <td>0</td>\n",
              "      <td>1</td>\n",
              "      <td>2010</td>\n",
              "      <td>WD</td>\n",
              "      <td>Normal</td>\n",
              "    </tr>\n",
              "  </tbody>\n",
              "</table>\n",
              "<p>5 rows × 80 columns</p>\n",
              "</div>\n",
              "      <button class=\"colab-df-convert\" onclick=\"convertToInteractive('df-1a1d3155-a7fa-48e5-bc7a-a505b121f90c')\"\n",
              "              title=\"Convert this dataframe to an interactive table.\"\n",
              "              style=\"display:none;\">\n",
              "        \n",
              "  <svg xmlns=\"http://www.w3.org/2000/svg\" height=\"24px\"viewBox=\"0 0 24 24\"\n",
              "       width=\"24px\">\n",
              "    <path d=\"M0 0h24v24H0V0z\" fill=\"none\"/>\n",
              "    <path d=\"M18.56 5.44l.94 2.06.94-2.06 2.06-.94-2.06-.94-.94-2.06-.94 2.06-2.06.94zm-11 1L8.5 8.5l.94-2.06 2.06-.94-2.06-.94L8.5 2.5l-.94 2.06-2.06.94zm10 10l.94 2.06.94-2.06 2.06-.94-2.06-.94-.94-2.06-.94 2.06-2.06.94z\"/><path d=\"M17.41 7.96l-1.37-1.37c-.4-.4-.92-.59-1.43-.59-.52 0-1.04.2-1.43.59L10.3 9.45l-7.72 7.72c-.78.78-.78 2.05 0 2.83L4 21.41c.39.39.9.59 1.41.59.51 0 1.02-.2 1.41-.59l7.78-7.78 2.81-2.81c.8-.78.8-2.07 0-2.86zM5.41 20L4 18.59l7.72-7.72 1.47 1.35L5.41 20z\"/>\n",
              "  </svg>\n",
              "      </button>\n",
              "      \n",
              "  <style>\n",
              "    .colab-df-container {\n",
              "      display:flex;\n",
              "      flex-wrap:wrap;\n",
              "      gap: 12px;\n",
              "    }\n",
              "\n",
              "    .colab-df-convert {\n",
              "      background-color: #E8F0FE;\n",
              "      border: none;\n",
              "      border-radius: 50%;\n",
              "      cursor: pointer;\n",
              "      display: none;\n",
              "      fill: #1967D2;\n",
              "      height: 32px;\n",
              "      padding: 0 0 0 0;\n",
              "      width: 32px;\n",
              "    }\n",
              "\n",
              "    .colab-df-convert:hover {\n",
              "      background-color: #E2EBFA;\n",
              "      box-shadow: 0px 1px 2px rgba(60, 64, 67, 0.3), 0px 1px 3px 1px rgba(60, 64, 67, 0.15);\n",
              "      fill: #174EA6;\n",
              "    }\n",
              "\n",
              "    [theme=dark] .colab-df-convert {\n",
              "      background-color: #3B4455;\n",
              "      fill: #D2E3FC;\n",
              "    }\n",
              "\n",
              "    [theme=dark] .colab-df-convert:hover {\n",
              "      background-color: #434B5C;\n",
              "      box-shadow: 0px 1px 3px 1px rgba(0, 0, 0, 0.15);\n",
              "      filter: drop-shadow(0px 1px 2px rgba(0, 0, 0, 0.3));\n",
              "      fill: #FFFFFF;\n",
              "    }\n",
              "  </style>\n",
              "\n",
              "      <script>\n",
              "        const buttonEl =\n",
              "          document.querySelector('#df-1a1d3155-a7fa-48e5-bc7a-a505b121f90c button.colab-df-convert');\n",
              "        buttonEl.style.display =\n",
              "          google.colab.kernel.accessAllowed ? 'block' : 'none';\n",
              "\n",
              "        async function convertToInteractive(key) {\n",
              "          const element = document.querySelector('#df-1a1d3155-a7fa-48e5-bc7a-a505b121f90c');\n",
              "          const dataTable =\n",
              "            await google.colab.kernel.invokeFunction('convertToInteractive',\n",
              "                                                     [key], {});\n",
              "          if (!dataTable) return;\n",
              "\n",
              "          const docLinkHtml = 'Like what you see? Visit the ' +\n",
              "            '<a target=\"_blank\" href=https://colab.research.google.com/notebooks/data_table.ipynb>data table notebook</a>'\n",
              "            + ' to learn more about interactive tables.';\n",
              "          element.innerHTML = '';\n",
              "          dataTable['output_type'] = 'display_data';\n",
              "          await google.colab.output.renderOutput(dataTable, element);\n",
              "          const docLink = document.createElement('div');\n",
              "          docLink.innerHTML = docLinkHtml;\n",
              "          element.appendChild(docLink);\n",
              "        }\n",
              "      </script>\n",
              "    </div>\n",
              "  </div>\n",
              "  "
            ]
          },
          "metadata": {},
          "execution_count": 6
        }
      ]
    },
    {
      "cell_type": "code",
      "source": [
        "test.info()"
      ],
      "metadata": {
        "colab": {
          "base_uri": "https://localhost:8080/"
        },
        "id": "SaH3LoIeNd0B",
        "outputId": "fcc3bca5-211f-4fd3-ec2f-fcb26ebcf846"
      },
      "execution_count": 7,
      "outputs": [
        {
          "output_type": "stream",
          "name": "stdout",
          "text": [
            "<class 'pandas.core.frame.DataFrame'>\n",
            "RangeIndex: 1459 entries, 0 to 1458\n",
            "Data columns (total 80 columns):\n",
            " #   Column         Non-Null Count  Dtype  \n",
            "---  ------         --------------  -----  \n",
            " 0   Id             1459 non-null   int64  \n",
            " 1   MSSubClass     1459 non-null   int64  \n",
            " 2   MSZoning       1455 non-null   object \n",
            " 3   LotFrontage    1232 non-null   float64\n",
            " 4   LotArea        1459 non-null   int64  \n",
            " 5   Street         1459 non-null   object \n",
            " 6   Alley          107 non-null    object \n",
            " 7   LotShape       1459 non-null   object \n",
            " 8   LandContour    1459 non-null   object \n",
            " 9   Utilities      1457 non-null   object \n",
            " 10  LotConfig      1459 non-null   object \n",
            " 11  LandSlope      1459 non-null   object \n",
            " 12  Neighborhood   1459 non-null   object \n",
            " 13  Condition1     1459 non-null   object \n",
            " 14  Condition2     1459 non-null   object \n",
            " 15  BldgType       1459 non-null   object \n",
            " 16  HouseStyle     1459 non-null   object \n",
            " 17  OverallQual    1459 non-null   int64  \n",
            " 18  OverallCond    1459 non-null   int64  \n",
            " 19  YearBuilt      1459 non-null   int64  \n",
            " 20  YearRemodAdd   1459 non-null   int64  \n",
            " 21  RoofStyle      1459 non-null   object \n",
            " 22  RoofMatl       1459 non-null   object \n",
            " 23  Exterior1st    1458 non-null   object \n",
            " 24  Exterior2nd    1458 non-null   object \n",
            " 25  MasVnrType     1443 non-null   object \n",
            " 26  MasVnrArea     1444 non-null   float64\n",
            " 27  ExterQual      1459 non-null   object \n",
            " 28  ExterCond      1459 non-null   object \n",
            " 29  Foundation     1459 non-null   object \n",
            " 30  BsmtQual       1415 non-null   object \n",
            " 31  BsmtCond       1414 non-null   object \n",
            " 32  BsmtExposure   1415 non-null   object \n",
            " 33  BsmtFinType1   1417 non-null   object \n",
            " 34  BsmtFinSF1     1458 non-null   float64\n",
            " 35  BsmtFinType2   1417 non-null   object \n",
            " 36  BsmtFinSF2     1458 non-null   float64\n",
            " 37  BsmtUnfSF      1458 non-null   float64\n",
            " 38  TotalBsmtSF    1458 non-null   float64\n",
            " 39  Heating        1459 non-null   object \n",
            " 40  HeatingQC      1459 non-null   object \n",
            " 41  CentralAir     1459 non-null   object \n",
            " 42  Electrical     1459 non-null   object \n",
            " 43  1stFlrSF       1459 non-null   int64  \n",
            " 44  2ndFlrSF       1459 non-null   int64  \n",
            " 45  LowQualFinSF   1459 non-null   int64  \n",
            " 46  GrLivArea      1459 non-null   int64  \n",
            " 47  BsmtFullBath   1457 non-null   float64\n",
            " 48  BsmtHalfBath   1457 non-null   float64\n",
            " 49  FullBath       1459 non-null   int64  \n",
            " 50  HalfBath       1459 non-null   int64  \n",
            " 51  BedroomAbvGr   1459 non-null   int64  \n",
            " 52  KitchenAbvGr   1459 non-null   int64  \n",
            " 53  KitchenQual    1458 non-null   object \n",
            " 54  TotRmsAbvGrd   1459 non-null   int64  \n",
            " 55  Functional     1457 non-null   object \n",
            " 56  Fireplaces     1459 non-null   int64  \n",
            " 57  FireplaceQu    729 non-null    object \n",
            " 58  GarageType     1383 non-null   object \n",
            " 59  GarageYrBlt    1381 non-null   float64\n",
            " 60  GarageFinish   1381 non-null   object \n",
            " 61  GarageCars     1458 non-null   float64\n",
            " 62  GarageArea     1458 non-null   float64\n",
            " 63  GarageQual     1381 non-null   object \n",
            " 64  GarageCond     1381 non-null   object \n",
            " 65  PavedDrive     1459 non-null   object \n",
            " 66  WoodDeckSF     1459 non-null   int64  \n",
            " 67  OpenPorchSF    1459 non-null   int64  \n",
            " 68  EnclosedPorch  1459 non-null   int64  \n",
            " 69  3SsnPorch      1459 non-null   int64  \n",
            " 70  ScreenPorch    1459 non-null   int64  \n",
            " 71  PoolArea       1459 non-null   int64  \n",
            " 72  PoolQC         3 non-null      object \n",
            " 73  Fence          290 non-null    object \n",
            " 74  MiscFeature    51 non-null     object \n",
            " 75  MiscVal        1459 non-null   int64  \n",
            " 76  MoSold         1459 non-null   int64  \n",
            " 77  YrSold         1459 non-null   int64  \n",
            " 78  SaleType       1458 non-null   object \n",
            " 79  SaleCondition  1459 non-null   object \n",
            "dtypes: float64(11), int64(26), object(43)\n",
            "memory usage: 912.0+ KB\n"
          ]
        }
      ]
    },
    {
      "cell_type": "markdown",
      "source": [
        "## 문제 확인\n",
        "- 훈련 데이터 / 테스트 데이터"
      ],
      "metadata": {
        "id": "JM9fLIl2vYsD"
      }
    },
    {
      "cell_type": "markdown",
      "source": [
        "## Feature Engineering\n",
        "- 데이터 전처리 코드 작성"
      ],
      "metadata": {
        "id": "Uc2ArrP-y6I9"
      }
    },
    {
      "cell_type": "markdown",
      "source": [
        "### 이상치 제거\n",
        "- 이상치 : 극단값, 벗어난 값, 평균으로부터 벗어난 값\n",
        "- 이상한 값 : 상식에 부합하지 않는 값\n",
        "- 인사 데이터 \n",
        " + 공공기관 KPI : 예산절감 / 동일한 효과\n",
        " + 급여 예측\n",
        " + 급여가 0인 데이터 <- 이상치"
      ],
      "metadata": {
        "id": "7yUHzc1Ly-hs"
      }
    },
    {
      "cell_type": "code",
      "source": [
        "train.shape"
      ],
      "metadata": {
        "id": "Pj-eEzKfNfmC",
        "colab": {
          "base_uri": "https://localhost:8080/"
        },
        "outputId": "b6136c9f-7bd5-4b53-e424-fea3e120b2b6"
      },
      "execution_count": 8,
      "outputs": [
        {
          "output_type": "execute_result",
          "data": {
            "text/plain": [
              "(1460, 81)"
            ]
          },
          "metadata": {},
          "execution_count": 8
        }
      ]
    },
    {
      "cell_type": "code",
      "source": [
        "train[(train['OverallQual'] < 4) & (train['SalePrice'] > 10000)]    # 데이터를 정제하기 위해 임의로 이상치 조건을 바꿔가며 진행"
      ],
      "metadata": {
        "colab": {
          "base_uri": "https://localhost:8080/",
          "height": 927
        },
        "id": "y_Hkblxb003T",
        "outputId": "db3db883-8996-47e4-f2b6-749113acef6c"
      },
      "execution_count": 9,
      "outputs": [
        {
          "output_type": "execute_result",
          "data": {
            "text/plain": [
              "        Id  MSSubClass MSZoning  LotFrontage  LotArea Street Alley LotShape  \\\n",
              "74      75          50       RM         60.0     5790   Pave   NaN      Reg   \n",
              "88      89          50  C (all)        105.0     8470   Pave   NaN      IR1   \n",
              "250    251          30       RL         55.0     5350   Pave   NaN      IR1   \n",
              "323    324          20       RM         49.0     5820   Pave   NaN      Reg   \n",
              "342    343          90       RL          NaN     8544   Pave   NaN      Reg   \n",
              "375    376          30       RL          NaN    10020   Pave   NaN      IR1   \n",
              "449    450          50       RM         50.0     6000   Pave   NaN      Reg   \n",
              "533    534          20       RL         50.0     5000   Pave   NaN      Reg   \n",
              "620    621          30       RL         45.0     8248   Pave  Grvl      Reg   \n",
              "636    637          30       RM         51.0     6120   Pave   NaN      Reg   \n",
              "710    711          30       RL         56.0     4130   Pave   NaN      IR1   \n",
              "736    737          90       RL         60.0     8544   Pave   NaN      Reg   \n",
              "916    917          20  C (all)         50.0     9000   Pave   NaN      Reg   \n",
              "968    969          50       RM         50.0     5925   Pave   NaN      Reg   \n",
              "998    999          30       RM         60.0     9786   Pave   NaN      Reg   \n",
              "1000  1001          20       RL         74.0    10206   Pave   NaN      Reg   \n",
              "1045  1046          20       RL          NaN    13680   Pave   NaN      IR1   \n",
              "1061  1062          30  C (all)        120.0    18000   Grvl   NaN      Reg   \n",
              "1090  1091          90       RL         60.0     8544   Pave   NaN      Reg   \n",
              "1100  1101          30       RL         60.0     8400   Pave   NaN      Reg   \n",
              "1186  1187         190       RL        107.0    10615   Pave   NaN      IR1   \n",
              "1321  1322          20       RL          NaN     6627   Pave   NaN      IR1   \n",
              "1326  1327          30       RH         70.0     4270   Pave   NaN      Reg   \n",
              "1380  1381          30       RL         45.0     8212   Pave  Grvl      Reg   \n",
              "1404  1405          50       RL         60.0    10410   Pave  Grvl      Reg   \n",
              "\n",
              "     LandContour Utilities  ... PoolArea PoolQC  Fence MiscFeature MiscVal  \\\n",
              "74           Lvl    AllPub  ...        0    NaN    NaN         NaN       0   \n",
              "88           Lvl    AllPub  ...        0    NaN  MnPrv         NaN       0   \n",
              "250          Lvl    AllPub  ...        0    NaN   GdWo        Shed     450   \n",
              "323          Lvl    AllPub  ...        0    NaN    NaN         NaN       0   \n",
              "342          Lvl    AllPub  ...        0    NaN    NaN         NaN       0   \n",
              "375          Low    AllPub  ...        0    NaN    NaN         NaN       0   \n",
              "449          Lvl    AllPub  ...        0    NaN    NaN         NaN       0   \n",
              "533          Low    AllPub  ...        0    NaN    NaN         NaN       0   \n",
              "620          Lvl    AllPub  ...        0    NaN    NaN         NaN       0   \n",
              "636          Lvl    AllPub  ...        0    NaN    NaN         NaN       0   \n",
              "710          Lvl    AllPub  ...        0    NaN    NaN         NaN       0   \n",
              "736          Lvl    AllPub  ...        0    NaN    NaN         NaN       0   \n",
              "916          Lvl    AllPub  ...        0    NaN    NaN         NaN       0   \n",
              "968          Lvl    AllPub  ...        0    NaN   GdWo         NaN       0   \n",
              "998          Lvl    AllPub  ...        0    NaN    NaN         NaN       0   \n",
              "1000         Lvl    AllPub  ...        0    NaN    NaN         NaN       0   \n",
              "1045         Lvl    AllPub  ...        0    NaN    NaN         NaN       0   \n",
              "1061         Low    AllPub  ...        0    NaN    NaN        Shed     560   \n",
              "1090         Lvl    AllPub  ...        0    NaN    NaN         NaN       0   \n",
              "1100         Bnk    AllPub  ...        0    NaN    NaN         NaN       0   \n",
              "1186         Bnk    AllPub  ...        0    NaN    NaN         NaN       0   \n",
              "1321         Lvl    AllPub  ...        0    NaN    NaN         NaN       0   \n",
              "1326         Bnk    AllPub  ...        0    NaN    NaN         NaN       0   \n",
              "1380         Lvl    AllPub  ...        0    NaN    NaN         NaN       0   \n",
              "1404         Lvl    AllPub  ...        0    NaN  MnPrv         NaN       0   \n",
              "\n",
              "     MoSold YrSold  SaleType  SaleCondition  SalePrice  \n",
              "74        5   2010        WD         Normal     107400  \n",
              "88       10   2009     ConLD        Abnorml      85000  \n",
              "250       5   2010        WD         Normal      76500  \n",
              "323       7   2006        WD         Normal     126175  \n",
              "342       5   2006        WD         Normal      87500  \n",
              "375       3   2009        WD         Normal      61000  \n",
              "449       6   2007        WD         Normal     120000  \n",
              "533       1   2007        WD         Normal      39300  \n",
              "620       9   2008        WD         Normal      67000  \n",
              "636       1   2009     ConLw         Normal      60000  \n",
              "710       7   2008        WD         Normal      52000  \n",
              "736       7   2006        WD         Normal      93500  \n",
              "916      10   2006        WD        Abnorml      35311  \n",
              "968       5   2009        WD        Abnorml      37900  \n",
              "998       5   2006        WD         Normal      91000  \n",
              "1000      7   2009        WD         Normal      82000  \n",
              "1045      6   2009        WD         Normal     139600  \n",
              "1061      8   2008     ConLD         Normal      81000  \n",
              "1090      6   2009        WD         Normal      92900  \n",
              "1100      1   2009        WD         Normal      60000  \n",
              "1186      8   2009        WD        Abnorml      95000  \n",
              "1321      7   2008        WD         Normal      72500  \n",
              "1326      5   2007        WD         Normal      79000  \n",
              "1380      6   2010        WD         Normal      58500  \n",
              "1404      1   2006        WD         Family     105000  \n",
              "\n",
              "[25 rows x 81 columns]"
            ],
            "text/html": [
              "\n",
              "  <div id=\"df-81f73ef8-e08e-43d5-abdd-8aa094cc9136\">\n",
              "    <div class=\"colab-df-container\">\n",
              "      <div>\n",
              "<style scoped>\n",
              "    .dataframe tbody tr th:only-of-type {\n",
              "        vertical-align: middle;\n",
              "    }\n",
              "\n",
              "    .dataframe tbody tr th {\n",
              "        vertical-align: top;\n",
              "    }\n",
              "\n",
              "    .dataframe thead th {\n",
              "        text-align: right;\n",
              "    }\n",
              "</style>\n",
              "<table border=\"1\" class=\"dataframe\">\n",
              "  <thead>\n",
              "    <tr style=\"text-align: right;\">\n",
              "      <th></th>\n",
              "      <th>Id</th>\n",
              "      <th>MSSubClass</th>\n",
              "      <th>MSZoning</th>\n",
              "      <th>LotFrontage</th>\n",
              "      <th>LotArea</th>\n",
              "      <th>Street</th>\n",
              "      <th>Alley</th>\n",
              "      <th>LotShape</th>\n",
              "      <th>LandContour</th>\n",
              "      <th>Utilities</th>\n",
              "      <th>...</th>\n",
              "      <th>PoolArea</th>\n",
              "      <th>PoolQC</th>\n",
              "      <th>Fence</th>\n",
              "      <th>MiscFeature</th>\n",
              "      <th>MiscVal</th>\n",
              "      <th>MoSold</th>\n",
              "      <th>YrSold</th>\n",
              "      <th>SaleType</th>\n",
              "      <th>SaleCondition</th>\n",
              "      <th>SalePrice</th>\n",
              "    </tr>\n",
              "  </thead>\n",
              "  <tbody>\n",
              "    <tr>\n",
              "      <th>74</th>\n",
              "      <td>75</td>\n",
              "      <td>50</td>\n",
              "      <td>RM</td>\n",
              "      <td>60.0</td>\n",
              "      <td>5790</td>\n",
              "      <td>Pave</td>\n",
              "      <td>NaN</td>\n",
              "      <td>Reg</td>\n",
              "      <td>Lvl</td>\n",
              "      <td>AllPub</td>\n",
              "      <td>...</td>\n",
              "      <td>0</td>\n",
              "      <td>NaN</td>\n",
              "      <td>NaN</td>\n",
              "      <td>NaN</td>\n",
              "      <td>0</td>\n",
              "      <td>5</td>\n",
              "      <td>2010</td>\n",
              "      <td>WD</td>\n",
              "      <td>Normal</td>\n",
              "      <td>107400</td>\n",
              "    </tr>\n",
              "    <tr>\n",
              "      <th>88</th>\n",
              "      <td>89</td>\n",
              "      <td>50</td>\n",
              "      <td>C (all)</td>\n",
              "      <td>105.0</td>\n",
              "      <td>8470</td>\n",
              "      <td>Pave</td>\n",
              "      <td>NaN</td>\n",
              "      <td>IR1</td>\n",
              "      <td>Lvl</td>\n",
              "      <td>AllPub</td>\n",
              "      <td>...</td>\n",
              "      <td>0</td>\n",
              "      <td>NaN</td>\n",
              "      <td>MnPrv</td>\n",
              "      <td>NaN</td>\n",
              "      <td>0</td>\n",
              "      <td>10</td>\n",
              "      <td>2009</td>\n",
              "      <td>ConLD</td>\n",
              "      <td>Abnorml</td>\n",
              "      <td>85000</td>\n",
              "    </tr>\n",
              "    <tr>\n",
              "      <th>250</th>\n",
              "      <td>251</td>\n",
              "      <td>30</td>\n",
              "      <td>RL</td>\n",
              "      <td>55.0</td>\n",
              "      <td>5350</td>\n",
              "      <td>Pave</td>\n",
              "      <td>NaN</td>\n",
              "      <td>IR1</td>\n",
              "      <td>Lvl</td>\n",
              "      <td>AllPub</td>\n",
              "      <td>...</td>\n",
              "      <td>0</td>\n",
              "      <td>NaN</td>\n",
              "      <td>GdWo</td>\n",
              "      <td>Shed</td>\n",
              "      <td>450</td>\n",
              "      <td>5</td>\n",
              "      <td>2010</td>\n",
              "      <td>WD</td>\n",
              "      <td>Normal</td>\n",
              "      <td>76500</td>\n",
              "    </tr>\n",
              "    <tr>\n",
              "      <th>323</th>\n",
              "      <td>324</td>\n",
              "      <td>20</td>\n",
              "      <td>RM</td>\n",
              "      <td>49.0</td>\n",
              "      <td>5820</td>\n",
              "      <td>Pave</td>\n",
              "      <td>NaN</td>\n",
              "      <td>Reg</td>\n",
              "      <td>Lvl</td>\n",
              "      <td>AllPub</td>\n",
              "      <td>...</td>\n",
              "      <td>0</td>\n",
              "      <td>NaN</td>\n",
              "      <td>NaN</td>\n",
              "      <td>NaN</td>\n",
              "      <td>0</td>\n",
              "      <td>7</td>\n",
              "      <td>2006</td>\n",
              "      <td>WD</td>\n",
              "      <td>Normal</td>\n",
              "      <td>126175</td>\n",
              "    </tr>\n",
              "    <tr>\n",
              "      <th>342</th>\n",
              "      <td>343</td>\n",
              "      <td>90</td>\n",
              "      <td>RL</td>\n",
              "      <td>NaN</td>\n",
              "      <td>8544</td>\n",
              "      <td>Pave</td>\n",
              "      <td>NaN</td>\n",
              "      <td>Reg</td>\n",
              "      <td>Lvl</td>\n",
              "      <td>AllPub</td>\n",
              "      <td>...</td>\n",
              "      <td>0</td>\n",
              "      <td>NaN</td>\n",
              "      <td>NaN</td>\n",
              "      <td>NaN</td>\n",
              "      <td>0</td>\n",
              "      <td>5</td>\n",
              "      <td>2006</td>\n",
              "      <td>WD</td>\n",
              "      <td>Normal</td>\n",
              "      <td>87500</td>\n",
              "    </tr>\n",
              "    <tr>\n",
              "      <th>375</th>\n",
              "      <td>376</td>\n",
              "      <td>30</td>\n",
              "      <td>RL</td>\n",
              "      <td>NaN</td>\n",
              "      <td>10020</td>\n",
              "      <td>Pave</td>\n",
              "      <td>NaN</td>\n",
              "      <td>IR1</td>\n",
              "      <td>Low</td>\n",
              "      <td>AllPub</td>\n",
              "      <td>...</td>\n",
              "      <td>0</td>\n",
              "      <td>NaN</td>\n",
              "      <td>NaN</td>\n",
              "      <td>NaN</td>\n",
              "      <td>0</td>\n",
              "      <td>3</td>\n",
              "      <td>2009</td>\n",
              "      <td>WD</td>\n",
              "      <td>Normal</td>\n",
              "      <td>61000</td>\n",
              "    </tr>\n",
              "    <tr>\n",
              "      <th>449</th>\n",
              "      <td>450</td>\n",
              "      <td>50</td>\n",
              "      <td>RM</td>\n",
              "      <td>50.0</td>\n",
              "      <td>6000</td>\n",
              "      <td>Pave</td>\n",
              "      <td>NaN</td>\n",
              "      <td>Reg</td>\n",
              "      <td>Lvl</td>\n",
              "      <td>AllPub</td>\n",
              "      <td>...</td>\n",
              "      <td>0</td>\n",
              "      <td>NaN</td>\n",
              "      <td>NaN</td>\n",
              "      <td>NaN</td>\n",
              "      <td>0</td>\n",
              "      <td>6</td>\n",
              "      <td>2007</td>\n",
              "      <td>WD</td>\n",
              "      <td>Normal</td>\n",
              "      <td>120000</td>\n",
              "    </tr>\n",
              "    <tr>\n",
              "      <th>533</th>\n",
              "      <td>534</td>\n",
              "      <td>20</td>\n",
              "      <td>RL</td>\n",
              "      <td>50.0</td>\n",
              "      <td>5000</td>\n",
              "      <td>Pave</td>\n",
              "      <td>NaN</td>\n",
              "      <td>Reg</td>\n",
              "      <td>Low</td>\n",
              "      <td>AllPub</td>\n",
              "      <td>...</td>\n",
              "      <td>0</td>\n",
              "      <td>NaN</td>\n",
              "      <td>NaN</td>\n",
              "      <td>NaN</td>\n",
              "      <td>0</td>\n",
              "      <td>1</td>\n",
              "      <td>2007</td>\n",
              "      <td>WD</td>\n",
              "      <td>Normal</td>\n",
              "      <td>39300</td>\n",
              "    </tr>\n",
              "    <tr>\n",
              "      <th>620</th>\n",
              "      <td>621</td>\n",
              "      <td>30</td>\n",
              "      <td>RL</td>\n",
              "      <td>45.0</td>\n",
              "      <td>8248</td>\n",
              "      <td>Pave</td>\n",
              "      <td>Grvl</td>\n",
              "      <td>Reg</td>\n",
              "      <td>Lvl</td>\n",
              "      <td>AllPub</td>\n",
              "      <td>...</td>\n",
              "      <td>0</td>\n",
              "      <td>NaN</td>\n",
              "      <td>NaN</td>\n",
              "      <td>NaN</td>\n",
              "      <td>0</td>\n",
              "      <td>9</td>\n",
              "      <td>2008</td>\n",
              "      <td>WD</td>\n",
              "      <td>Normal</td>\n",
              "      <td>67000</td>\n",
              "    </tr>\n",
              "    <tr>\n",
              "      <th>636</th>\n",
              "      <td>637</td>\n",
              "      <td>30</td>\n",
              "      <td>RM</td>\n",
              "      <td>51.0</td>\n",
              "      <td>6120</td>\n",
              "      <td>Pave</td>\n",
              "      <td>NaN</td>\n",
              "      <td>Reg</td>\n",
              "      <td>Lvl</td>\n",
              "      <td>AllPub</td>\n",
              "      <td>...</td>\n",
              "      <td>0</td>\n",
              "      <td>NaN</td>\n",
              "      <td>NaN</td>\n",
              "      <td>NaN</td>\n",
              "      <td>0</td>\n",
              "      <td>1</td>\n",
              "      <td>2009</td>\n",
              "      <td>ConLw</td>\n",
              "      <td>Normal</td>\n",
              "      <td>60000</td>\n",
              "    </tr>\n",
              "    <tr>\n",
              "      <th>710</th>\n",
              "      <td>711</td>\n",
              "      <td>30</td>\n",
              "      <td>RL</td>\n",
              "      <td>56.0</td>\n",
              "      <td>4130</td>\n",
              "      <td>Pave</td>\n",
              "      <td>NaN</td>\n",
              "      <td>IR1</td>\n",
              "      <td>Lvl</td>\n",
              "      <td>AllPub</td>\n",
              "      <td>...</td>\n",
              "      <td>0</td>\n",
              "      <td>NaN</td>\n",
              "      <td>NaN</td>\n",
              "      <td>NaN</td>\n",
              "      <td>0</td>\n",
              "      <td>7</td>\n",
              "      <td>2008</td>\n",
              "      <td>WD</td>\n",
              "      <td>Normal</td>\n",
              "      <td>52000</td>\n",
              "    </tr>\n",
              "    <tr>\n",
              "      <th>736</th>\n",
              "      <td>737</td>\n",
              "      <td>90</td>\n",
              "      <td>RL</td>\n",
              "      <td>60.0</td>\n",
              "      <td>8544</td>\n",
              "      <td>Pave</td>\n",
              "      <td>NaN</td>\n",
              "      <td>Reg</td>\n",
              "      <td>Lvl</td>\n",
              "      <td>AllPub</td>\n",
              "      <td>...</td>\n",
              "      <td>0</td>\n",
              "      <td>NaN</td>\n",
              "      <td>NaN</td>\n",
              "      <td>NaN</td>\n",
              "      <td>0</td>\n",
              "      <td>7</td>\n",
              "      <td>2006</td>\n",
              "      <td>WD</td>\n",
              "      <td>Normal</td>\n",
              "      <td>93500</td>\n",
              "    </tr>\n",
              "    <tr>\n",
              "      <th>916</th>\n",
              "      <td>917</td>\n",
              "      <td>20</td>\n",
              "      <td>C (all)</td>\n",
              "      <td>50.0</td>\n",
              "      <td>9000</td>\n",
              "      <td>Pave</td>\n",
              "      <td>NaN</td>\n",
              "      <td>Reg</td>\n",
              "      <td>Lvl</td>\n",
              "      <td>AllPub</td>\n",
              "      <td>...</td>\n",
              "      <td>0</td>\n",
              "      <td>NaN</td>\n",
              "      <td>NaN</td>\n",
              "      <td>NaN</td>\n",
              "      <td>0</td>\n",
              "      <td>10</td>\n",
              "      <td>2006</td>\n",
              "      <td>WD</td>\n",
              "      <td>Abnorml</td>\n",
              "      <td>35311</td>\n",
              "    </tr>\n",
              "    <tr>\n",
              "      <th>968</th>\n",
              "      <td>969</td>\n",
              "      <td>50</td>\n",
              "      <td>RM</td>\n",
              "      <td>50.0</td>\n",
              "      <td>5925</td>\n",
              "      <td>Pave</td>\n",
              "      <td>NaN</td>\n",
              "      <td>Reg</td>\n",
              "      <td>Lvl</td>\n",
              "      <td>AllPub</td>\n",
              "      <td>...</td>\n",
              "      <td>0</td>\n",
              "      <td>NaN</td>\n",
              "      <td>GdWo</td>\n",
              "      <td>NaN</td>\n",
              "      <td>0</td>\n",
              "      <td>5</td>\n",
              "      <td>2009</td>\n",
              "      <td>WD</td>\n",
              "      <td>Abnorml</td>\n",
              "      <td>37900</td>\n",
              "    </tr>\n",
              "    <tr>\n",
              "      <th>998</th>\n",
              "      <td>999</td>\n",
              "      <td>30</td>\n",
              "      <td>RM</td>\n",
              "      <td>60.0</td>\n",
              "      <td>9786</td>\n",
              "      <td>Pave</td>\n",
              "      <td>NaN</td>\n",
              "      <td>Reg</td>\n",
              "      <td>Lvl</td>\n",
              "      <td>AllPub</td>\n",
              "      <td>...</td>\n",
              "      <td>0</td>\n",
              "      <td>NaN</td>\n",
              "      <td>NaN</td>\n",
              "      <td>NaN</td>\n",
              "      <td>0</td>\n",
              "      <td>5</td>\n",
              "      <td>2006</td>\n",
              "      <td>WD</td>\n",
              "      <td>Normal</td>\n",
              "      <td>91000</td>\n",
              "    </tr>\n",
              "    <tr>\n",
              "      <th>1000</th>\n",
              "      <td>1001</td>\n",
              "      <td>20</td>\n",
              "      <td>RL</td>\n",
              "      <td>74.0</td>\n",
              "      <td>10206</td>\n",
              "      <td>Pave</td>\n",
              "      <td>NaN</td>\n",
              "      <td>Reg</td>\n",
              "      <td>Lvl</td>\n",
              "      <td>AllPub</td>\n",
              "      <td>...</td>\n",
              "      <td>0</td>\n",
              "      <td>NaN</td>\n",
              "      <td>NaN</td>\n",
              "      <td>NaN</td>\n",
              "      <td>0</td>\n",
              "      <td>7</td>\n",
              "      <td>2009</td>\n",
              "      <td>WD</td>\n",
              "      <td>Normal</td>\n",
              "      <td>82000</td>\n",
              "    </tr>\n",
              "    <tr>\n",
              "      <th>1045</th>\n",
              "      <td>1046</td>\n",
              "      <td>20</td>\n",
              "      <td>RL</td>\n",
              "      <td>NaN</td>\n",
              "      <td>13680</td>\n",
              "      <td>Pave</td>\n",
              "      <td>NaN</td>\n",
              "      <td>IR1</td>\n",
              "      <td>Lvl</td>\n",
              "      <td>AllPub</td>\n",
              "      <td>...</td>\n",
              "      <td>0</td>\n",
              "      <td>NaN</td>\n",
              "      <td>NaN</td>\n",
              "      <td>NaN</td>\n",
              "      <td>0</td>\n",
              "      <td>6</td>\n",
              "      <td>2009</td>\n",
              "      <td>WD</td>\n",
              "      <td>Normal</td>\n",
              "      <td>139600</td>\n",
              "    </tr>\n",
              "    <tr>\n",
              "      <th>1061</th>\n",
              "      <td>1062</td>\n",
              "      <td>30</td>\n",
              "      <td>C (all)</td>\n",
              "      <td>120.0</td>\n",
              "      <td>18000</td>\n",
              "      <td>Grvl</td>\n",
              "      <td>NaN</td>\n",
              "      <td>Reg</td>\n",
              "      <td>Low</td>\n",
              "      <td>AllPub</td>\n",
              "      <td>...</td>\n",
              "      <td>0</td>\n",
              "      <td>NaN</td>\n",
              "      <td>NaN</td>\n",
              "      <td>Shed</td>\n",
              "      <td>560</td>\n",
              "      <td>8</td>\n",
              "      <td>2008</td>\n",
              "      <td>ConLD</td>\n",
              "      <td>Normal</td>\n",
              "      <td>81000</td>\n",
              "    </tr>\n",
              "    <tr>\n",
              "      <th>1090</th>\n",
              "      <td>1091</td>\n",
              "      <td>90</td>\n",
              "      <td>RL</td>\n",
              "      <td>60.0</td>\n",
              "      <td>8544</td>\n",
              "      <td>Pave</td>\n",
              "      <td>NaN</td>\n",
              "      <td>Reg</td>\n",
              "      <td>Lvl</td>\n",
              "      <td>AllPub</td>\n",
              "      <td>...</td>\n",
              "      <td>0</td>\n",
              "      <td>NaN</td>\n",
              "      <td>NaN</td>\n",
              "      <td>NaN</td>\n",
              "      <td>0</td>\n",
              "      <td>6</td>\n",
              "      <td>2009</td>\n",
              "      <td>WD</td>\n",
              "      <td>Normal</td>\n",
              "      <td>92900</td>\n",
              "    </tr>\n",
              "    <tr>\n",
              "      <th>1100</th>\n",
              "      <td>1101</td>\n",
              "      <td>30</td>\n",
              "      <td>RL</td>\n",
              "      <td>60.0</td>\n",
              "      <td>8400</td>\n",
              "      <td>Pave</td>\n",
              "      <td>NaN</td>\n",
              "      <td>Reg</td>\n",
              "      <td>Bnk</td>\n",
              "      <td>AllPub</td>\n",
              "      <td>...</td>\n",
              "      <td>0</td>\n",
              "      <td>NaN</td>\n",
              "      <td>NaN</td>\n",
              "      <td>NaN</td>\n",
              "      <td>0</td>\n",
              "      <td>1</td>\n",
              "      <td>2009</td>\n",
              "      <td>WD</td>\n",
              "      <td>Normal</td>\n",
              "      <td>60000</td>\n",
              "    </tr>\n",
              "    <tr>\n",
              "      <th>1186</th>\n",
              "      <td>1187</td>\n",
              "      <td>190</td>\n",
              "      <td>RL</td>\n",
              "      <td>107.0</td>\n",
              "      <td>10615</td>\n",
              "      <td>Pave</td>\n",
              "      <td>NaN</td>\n",
              "      <td>IR1</td>\n",
              "      <td>Bnk</td>\n",
              "      <td>AllPub</td>\n",
              "      <td>...</td>\n",
              "      <td>0</td>\n",
              "      <td>NaN</td>\n",
              "      <td>NaN</td>\n",
              "      <td>NaN</td>\n",
              "      <td>0</td>\n",
              "      <td>8</td>\n",
              "      <td>2009</td>\n",
              "      <td>WD</td>\n",
              "      <td>Abnorml</td>\n",
              "      <td>95000</td>\n",
              "    </tr>\n",
              "    <tr>\n",
              "      <th>1321</th>\n",
              "      <td>1322</td>\n",
              "      <td>20</td>\n",
              "      <td>RL</td>\n",
              "      <td>NaN</td>\n",
              "      <td>6627</td>\n",
              "      <td>Pave</td>\n",
              "      <td>NaN</td>\n",
              "      <td>IR1</td>\n",
              "      <td>Lvl</td>\n",
              "      <td>AllPub</td>\n",
              "      <td>...</td>\n",
              "      <td>0</td>\n",
              "      <td>NaN</td>\n",
              "      <td>NaN</td>\n",
              "      <td>NaN</td>\n",
              "      <td>0</td>\n",
              "      <td>7</td>\n",
              "      <td>2008</td>\n",
              "      <td>WD</td>\n",
              "      <td>Normal</td>\n",
              "      <td>72500</td>\n",
              "    </tr>\n",
              "    <tr>\n",
              "      <th>1326</th>\n",
              "      <td>1327</td>\n",
              "      <td>30</td>\n",
              "      <td>RH</td>\n",
              "      <td>70.0</td>\n",
              "      <td>4270</td>\n",
              "      <td>Pave</td>\n",
              "      <td>NaN</td>\n",
              "      <td>Reg</td>\n",
              "      <td>Bnk</td>\n",
              "      <td>AllPub</td>\n",
              "      <td>...</td>\n",
              "      <td>0</td>\n",
              "      <td>NaN</td>\n",
              "      <td>NaN</td>\n",
              "      <td>NaN</td>\n",
              "      <td>0</td>\n",
              "      <td>5</td>\n",
              "      <td>2007</td>\n",
              "      <td>WD</td>\n",
              "      <td>Normal</td>\n",
              "      <td>79000</td>\n",
              "    </tr>\n",
              "    <tr>\n",
              "      <th>1380</th>\n",
              "      <td>1381</td>\n",
              "      <td>30</td>\n",
              "      <td>RL</td>\n",
              "      <td>45.0</td>\n",
              "      <td>8212</td>\n",
              "      <td>Pave</td>\n",
              "      <td>Grvl</td>\n",
              "      <td>Reg</td>\n",
              "      <td>Lvl</td>\n",
              "      <td>AllPub</td>\n",
              "      <td>...</td>\n",
              "      <td>0</td>\n",
              "      <td>NaN</td>\n",
              "      <td>NaN</td>\n",
              "      <td>NaN</td>\n",
              "      <td>0</td>\n",
              "      <td>6</td>\n",
              "      <td>2010</td>\n",
              "      <td>WD</td>\n",
              "      <td>Normal</td>\n",
              "      <td>58500</td>\n",
              "    </tr>\n",
              "    <tr>\n",
              "      <th>1404</th>\n",
              "      <td>1405</td>\n",
              "      <td>50</td>\n",
              "      <td>RL</td>\n",
              "      <td>60.0</td>\n",
              "      <td>10410</td>\n",
              "      <td>Pave</td>\n",
              "      <td>Grvl</td>\n",
              "      <td>Reg</td>\n",
              "      <td>Lvl</td>\n",
              "      <td>AllPub</td>\n",
              "      <td>...</td>\n",
              "      <td>0</td>\n",
              "      <td>NaN</td>\n",
              "      <td>MnPrv</td>\n",
              "      <td>NaN</td>\n",
              "      <td>0</td>\n",
              "      <td>1</td>\n",
              "      <td>2006</td>\n",
              "      <td>WD</td>\n",
              "      <td>Family</td>\n",
              "      <td>105000</td>\n",
              "    </tr>\n",
              "  </tbody>\n",
              "</table>\n",
              "<p>25 rows × 81 columns</p>\n",
              "</div>\n",
              "      <button class=\"colab-df-convert\" onclick=\"convertToInteractive('df-81f73ef8-e08e-43d5-abdd-8aa094cc9136')\"\n",
              "              title=\"Convert this dataframe to an interactive table.\"\n",
              "              style=\"display:none;\">\n",
              "        \n",
              "  <svg xmlns=\"http://www.w3.org/2000/svg\" height=\"24px\"viewBox=\"0 0 24 24\"\n",
              "       width=\"24px\">\n",
              "    <path d=\"M0 0h24v24H0V0z\" fill=\"none\"/>\n",
              "    <path d=\"M18.56 5.44l.94 2.06.94-2.06 2.06-.94-2.06-.94-.94-2.06-.94 2.06-2.06.94zm-11 1L8.5 8.5l.94-2.06 2.06-.94-2.06-.94L8.5 2.5l-.94 2.06-2.06.94zm10 10l.94 2.06.94-2.06 2.06-.94-2.06-.94-.94-2.06-.94 2.06-2.06.94z\"/><path d=\"M17.41 7.96l-1.37-1.37c-.4-.4-.92-.59-1.43-.59-.52 0-1.04.2-1.43.59L10.3 9.45l-7.72 7.72c-.78.78-.78 2.05 0 2.83L4 21.41c.39.39.9.59 1.41.59.51 0 1.02-.2 1.41-.59l7.78-7.78 2.81-2.81c.8-.78.8-2.07 0-2.86zM5.41 20L4 18.59l7.72-7.72 1.47 1.35L5.41 20z\"/>\n",
              "  </svg>\n",
              "      </button>\n",
              "      \n",
              "  <style>\n",
              "    .colab-df-container {\n",
              "      display:flex;\n",
              "      flex-wrap:wrap;\n",
              "      gap: 12px;\n",
              "    }\n",
              "\n",
              "    .colab-df-convert {\n",
              "      background-color: #E8F0FE;\n",
              "      border: none;\n",
              "      border-radius: 50%;\n",
              "      cursor: pointer;\n",
              "      display: none;\n",
              "      fill: #1967D2;\n",
              "      height: 32px;\n",
              "      padding: 0 0 0 0;\n",
              "      width: 32px;\n",
              "    }\n",
              "\n",
              "    .colab-df-convert:hover {\n",
              "      background-color: #E2EBFA;\n",
              "      box-shadow: 0px 1px 2px rgba(60, 64, 67, 0.3), 0px 1px 3px 1px rgba(60, 64, 67, 0.15);\n",
              "      fill: #174EA6;\n",
              "    }\n",
              "\n",
              "    [theme=dark] .colab-df-convert {\n",
              "      background-color: #3B4455;\n",
              "      fill: #D2E3FC;\n",
              "    }\n",
              "\n",
              "    [theme=dark] .colab-df-convert:hover {\n",
              "      background-color: #434B5C;\n",
              "      box-shadow: 0px 1px 3px 1px rgba(0, 0, 0, 0.15);\n",
              "      filter: drop-shadow(0px 1px 2px rgba(0, 0, 0, 0.3));\n",
              "      fill: #FFFFFF;\n",
              "    }\n",
              "  </style>\n",
              "\n",
              "      <script>\n",
              "        const buttonEl =\n",
              "          document.querySelector('#df-81f73ef8-e08e-43d5-abdd-8aa094cc9136 button.colab-df-convert');\n",
              "        buttonEl.style.display =\n",
              "          google.colab.kernel.accessAllowed ? 'block' : 'none';\n",
              "\n",
              "        async function convertToInteractive(key) {\n",
              "          const element = document.querySelector('#df-81f73ef8-e08e-43d5-abdd-8aa094cc9136');\n",
              "          const dataTable =\n",
              "            await google.colab.kernel.invokeFunction('convertToInteractive',\n",
              "                                                     [key], {});\n",
              "          if (!dataTable) return;\n",
              "\n",
              "          const docLinkHtml = 'Like what you see? Visit the ' +\n",
              "            '<a target=\"_blank\" href=https://colab.research.google.com/notebooks/data_table.ipynb>data table notebook</a>'\n",
              "            + ' to learn more about interactive tables.';\n",
              "          element.innerHTML = '';\n",
              "          dataTable['output_type'] = 'display_data';\n",
              "          await google.colab.output.renderOutput(dataTable, element);\n",
              "          const docLink = document.createElement('div');\n",
              "          docLink.innerHTML = docLinkHtml;\n",
              "          element.appendChild(docLink);\n",
              "        }\n",
              "      </script>\n",
              "    </div>\n",
              "  </div>\n",
              "  "
            ]
          },
          "metadata": {},
          "execution_count": 9
        }
      ]
    },
    {
      "cell_type": "code",
      "source": [
        "train = train.drop(train[(train['OverallQual'] < 4) & (train['SalePrice'] > 100000)].index, axis = 0)\n",
        "train.shape"
      ],
      "metadata": {
        "colab": {
          "base_uri": "https://localhost:8080/"
        },
        "id": "ji0JrXxe1ROK",
        "outputId": "f8b8c729-3b40-4c7f-9ce2-aa7dbb1e2ac6"
      },
      "execution_count": 10,
      "outputs": [
        {
          "output_type": "execute_result",
          "data": {
            "text/plain": [
              "(1455, 81)"
            ]
          },
          "metadata": {},
          "execution_count": 10
        }
      ]
    },
    {
      "cell_type": "code",
      "source": [
        "train = train.reset_index(drop = True) # 인덱스 번호를 다시 메김.\n",
        "train.shape"
      ],
      "metadata": {
        "colab": {
          "base_uri": "https://localhost:8080/"
        },
        "id": "gSxu65r51roC",
        "outputId": "e49bb167-c26e-40d2-bb5c-22ded79f5935"
      },
      "execution_count": 11,
      "outputs": [
        {
          "output_type": "execute_result",
          "data": {
            "text/plain": [
              "(1455, 81)"
            ]
          },
          "metadata": {},
          "execution_count": 11
        }
      ]
    },
    {
      "cell_type": "markdown",
      "source": [
        "## 종속변수의 분포 파악\n",
        "- 수치 데이터 시각화 (연속형)\n",
        " + 히스토그램"
      ],
      "metadata": {
        "id": "kfxU0u_v2NEq"
      }
    },
    {
      "cell_type": "code",
      "source": [
        "# Seaborn 시각화 그래프 : 히스토그램\n",
        "import seaborn as sns\n",
        "import matplotlib.pyplot as plt\n",
        "from scipy.stats import norm            # 통계 모듈\n",
        "(mu, sigma) = norm.fit(train['SalePrice']) \n",
        "print(mu, sigma)\n",
        "\n",
        "fig, ax = plt.subplots(figsize = (10,6))\n",
        "sns.histplot(train['SalePrice'], color = 'b', stat = 'probability')      # probability : 확률\n",
        "ax.axvline(mu, color = 'r', ls = '--')\n",
        "ax.text(mu + 10000, 0.11, 'Mean Of SalePrice', color = 'r')\n",
        "plt.show()"
      ],
      "metadata": {
        "colab": {
          "base_uri": "https://localhost:8080/",
          "height": 560
        },
        "id": "09v5U2PK2HiC",
        "outputId": "f005c6b3-f5a7-4790-d8a9-89acce23d025"
      },
      "execution_count": 12,
      "outputs": [
        {
          "output_type": "stream",
          "name": "stdout",
          "text": [
            "181131.80137457044 79466.69935176395\n"
          ]
        },
        {
          "output_type": "display_data",
          "data": {
            "text/plain": [
              "<Figure size 1000x600 with 1 Axes>"
            ],
            "image/png": "[encoded data removed]"
          },
          "metadata": {}
        }
      ]
    },
    {
      "cell_type": "markdown",
      "source": [
        "## SalePrice\n",
        "- 정규화 작업 / 전통적인 모델을 활용하기 위해서\n",
        "- 정규분포로 만드는 이유 : 전통적인 모델의 Assumption\n",
        " + 데이터는 정규분포여야 함\n",
        " + 샤피로 윌크스 검정\n",
        "\n",
        "## 회귀모형\n",
        "- 비선형 모델 : 결정트리, 랜덤포레스트, XGBoost, LightGBM"
      ],
      "metadata": {
        "id": "rRgJ19dG-Qtx"
      }
    },
    {
      "cell_type": "code",
      "source": [
        "# 로그 변환\n",
        "import numpy as np\n",
        "train['SalePrice'] = np.log1p(train['SalePrice'])\n",
        "(mu, sigma) = norm.fit(train['SalePrice']) \n",
        "print(mu, sigma)"
      ],
      "metadata": {
        "colab": {
          "base_uri": "https://localhost:8080/"
        },
        "id": "WQzTCaTa2uUq",
        "outputId": "82b62270-4247-480a-e5bb-2e94ba5addfc"
      },
      "execution_count": 13,
      "outputs": [
        {
          "output_type": "stream",
          "name": "stdout",
          "text": [
            "12.025216848544066 0.3994595223123619\n"
          ]
        }
      ]
    },
    {
      "cell_type": "code",
      "source": [
        "fig, ax = plt.subplots(figsize = (10,6))\n",
        "sns.histplot(train['SalePrice'], color = 'b', stat = 'probability') # probability : 확률\n",
        "ax.axvline(mu, color = 'r', ls = '--')\n",
        "ax.text(mu - 0.85, 0.105, 'Mean Of SalePrice <-------', color = 'r')\n",
        "# ax.text(mu - 0.25, 0.105, '<-----', color = 'r')\n",
        "plt.show()"
      ],
      "metadata": {
        "colab": {
          "base_uri": "https://localhost:8080/",
          "height": 542
        },
        "id": "j1nHH1OeA0uo",
        "outputId": "250cfcf7-1c25-4ed1-da77-92e8d7972556"
      },
      "execution_count": 14,
      "outputs": [
        {
          "output_type": "display_data",
          "data": {
            "text/plain": [
              "<Figure size 1000x600 with 1 Axes>"
            ],
            "image/png": "[encoded data removed]"
          },
          "metadata": {}
        }
      ]
    },
    {
      "cell_type": "markdown",
      "source": [
        "## 불필요한 데이터 제거\n",
        "- ID 값 제거"
      ],
      "metadata": {
        "id": "F99T1P77B37g"
      }
    },
    {
      "cell_type": "code",
      "source": [
        "train_ID = train['Id'] # train ID를 따로 저장 # 중복되는게 없어서 제거 # 패턴이 없어서 제거\n",
        "test_ID = test['Id'] # test ID를 따로 저장 # 중복되는게 없어서 제거 # 패턴이 없어서 제거\n",
        "\n",
        "train = train.drop(['Id'], axis = 1)\n",
        "test = test.drop(['Id'], axis = 1)\n",
        "\n",
        "train.shape, test.shape"
      ],
      "metadata": {
        "colab": {
          "base_uri": "https://localhost:8080/"
        },
        "id": "ZgM85bwyBiqg",
        "outputId": "e8d74944-95ed-4dd4-d44e-1a42f17e3fe6"
      },
      "execution_count": 15,
      "outputs": [
        {
          "output_type": "execute_result",
          "data": {
            "text/plain": [
              "((1455, 80), (1459, 79))"
            ]
          },
          "metadata": {},
          "execution_count": 15
        }
      ]
    },
    {
      "cell_type": "markdown",
      "source": [
        "## Y값 추출\n",
        "- y값에 해당되는 SalePrice를 추출"
      ],
      "metadata": {
        "id": "MMutMJR4KFBn"
      }
    },
    {
      "cell_type": "code",
      "source": [
        "y = train['SalePrice'] # target 변수\n",
        "y[:5]"
      ],
      "metadata": {
        "colab": {
          "base_uri": "https://localhost:8080/"
        },
        "id": "sMdIFEVTKBVI",
        "outputId": "cc510e90-0ec4-497f-89f0-47da8647cf7a"
      },
      "execution_count": 16,
      "outputs": [
        {
          "output_type": "execute_result",
          "data": {
            "text/plain": [
              "0    12.247699\n",
              "1    12.109016\n",
              "2    12.317171\n",
              "3    11.849405\n",
              "4    12.429220\n",
              "Name: SalePrice, dtype: float64"
            ]
          },
          "metadata": {},
          "execution_count": 16
        }
      ]
    },
    {
      "cell_type": "code",
      "source": [
        "train = train.drop('SalePrice', axis = 1)\n",
        "train.shape, test.shape, y.shape"
      ],
      "metadata": {
        "colab": {
          "base_uri": "https://localhost:8080/"
        },
        "id": "Xrqy-STwKScW",
        "outputId": "98c27808-9bc8-4064-98b2-fc30951fe8bd"
      },
      "execution_count": 17,
      "outputs": [
        {
          "output_type": "execute_result",
          "data": {
            "text/plain": [
              "((1455, 79), (1459, 79), (1455,))"
            ]
          },
          "metadata": {},
          "execution_count": 17
        }
      ]
    },
    {
      "cell_type": "markdown",
      "source": [
        "## 데이터 합치기\n",
        "- 둘 다 동일하게 처리할 것이다!\n",
        " + 이 방법 쓰면, Data Leakage에 빠질 확률 높음 # 데이터 누수\n",
        "- 머신러닝 데이터 분석 희망자 : Data Leakage (블로그로 잘 정리)\n",
        "- 데이터 가공 및 Feature Engineering 진행 시, 평균 대체 등 진행할 때는, 원칙적으로 train / test 별도로 분리\n",
        "- Data Leakage 피하는 방법 : scikit-learn pipeline을 공부할 것\n",
        "(블로그로 잘 정리)\n",
        "- 모의고사 정답지를 아는 상태에서 문제를 푸는 것과 동일"
      ],
      "metadata": {
        "id": "sObg8L13K0NZ"
      }
    },
    {
      "cell_type": "code",
      "source": [
        "all_df = pd.concat([train, test]).reset_index(drop = True)\n",
        "all_df.shape"
      ],
      "metadata": {
        "colab": {
          "base_uri": "https://localhost:8080/"
        },
        "id": "_dzJr3ssKY7G",
        "outputId": "14f0b1f1-dec5-455f-fc07-0bf5814f70a3"
      },
      "execution_count": 18,
      "outputs": [
        {
          "output_type": "execute_result",
          "data": {
            "text/plain": [
              "(2914, 79)"
            ]
          },
          "metadata": {},
          "execution_count": 18
        }
      ]
    },
    {
      "cell_type": "markdown",
      "source": [
        "## 결측치 확인\n",
        "- 결측치의 비율을 확인하는 사용자 정의 함수 만듬\n",
        "- 결측치를 제거하는 것도 패턴이 보이지 않기에 제거한다\n",
        "- 결측치가 많아서 제거하는 것이 아님"
      ],
      "metadata": {
        "id": "nVdDSXk7MujQ"
      }
    },
    {
      "cell_type": "code",
      "source": [
        "def check_na(data, head_num = 6):\n",
        "  isnull_na = (data.isnull().sum() / len(data)) * 100\n",
        "  data_na = isnull_na.drop(isnull_na[isnull_na == 0].index).sort_values(ascending=False)\n",
        "  missing_data = pd.DataFrame({'Missing Ratio' :data_na, \n",
        "                               'Data Type': data.dtypes[data_na.index]})\n",
        "  print(\"결측치 데이터 컬럼과 건수:\\n\", missing_data.head(head_num))\n",
        "\n",
        "check_na(all_df, 20)"
      ],
      "metadata": {
        "colab": {
          "base_uri": "https://localhost:8080/"
        },
        "id": "K7tl59mcLPHG",
        "outputId": "fda18810-1de2-4a4b-a469-179f88ebefad"
      },
      "execution_count": 19,
      "outputs": [
        {
          "output_type": "stream",
          "name": "stdout",
          "text": [
            "결측치 데이터 컬럼과 건수:\n",
            "               Missing Ratio Data Type\n",
            "PoolQC            99.656829    object\n",
            "MiscFeature       96.396706    object\n",
            "Alley             93.239533    object\n",
            "Fence             80.439259    object\n",
            "FireplaceQu       48.592999    object\n",
            "LotFrontage       16.643789   float64\n",
            "GarageFinish       5.456417    object\n",
            "GarageQual         5.456417    object\n",
            "GarageCond         5.456417    object\n",
            "GarageYrBlt        5.456417   float64\n",
            "GarageType         5.387783    object\n",
            "BsmtExposure       2.779684    object\n",
            "BsmtCond           2.779684    object\n",
            "BsmtQual           2.745367    object\n",
            "BsmtFinType2       2.711050    object\n",
            "BsmtFinType1       2.676733    object\n",
            "MasVnrType         0.823610    object\n",
            "MasVnrArea         0.789293   float64\n",
            "MSZoning           0.137268    object\n",
            "BsmtFullBath       0.068634   float64\n"
          ]
        }
      ]
    },
    {
      "cell_type": "code",
      "source": [
        "## 시각화 코드 다 쳐서, 무엇을 / 어떻게 처리할지, 판단하는 과정\n",
        "## EDA : 탐색적 자료분석"
      ],
      "metadata": {
        "id": "k1pdjEz9Oote"
      },
      "execution_count": 20,
      "outputs": []
    },
    {
      "cell_type": "code",
      "source": [
        "all_df.drop(['PoolQC', 'MiscFeature', 'Alley', 'Fence', 'FireplaceQu', 'LotFrontage'], axis=1, inplace=True)\n",
        "check_na(all_df)"
      ],
      "metadata": {
        "colab": {
          "base_uri": "https://localhost:8080/"
        },
        "id": "06CktFMJMyDH",
        "outputId": "031ce614-2e1f-411b-e300-d746459c6fec"
      },
      "execution_count": 21,
      "outputs": [
        {
          "output_type": "stream",
          "name": "stdout",
          "text": [
            "결측치 데이터 컬럼과 건수:\n",
            "               Missing Ratio Data Type\n",
            "GarageCond         5.456417    object\n",
            "GarageQual         5.456417    object\n",
            "GarageYrBlt        5.456417   float64\n",
            "GarageFinish       5.456417    object\n",
            "GarageType         5.387783    object\n",
            "BsmtCond           2.779684    object\n"
          ]
        }
      ]
    },
    {
      "cell_type": "markdown",
      "source": [
        "### 결측치 채우기\n",
        "- 문자 데이터(object)를 채우는 방법\n",
        " + 가장 빈도가 높은 데이터 순 대치\n",
        "- 수치 데이터(int, float)를 채우는 방법\n",
        " + 평균, 중간값"
      ],
      "metadata": {
        "id": "GjyORKVXPt9V"
      }
    },
    {
      "cell_type": "code",
      "source": [
        "all_df['BsmtCond'].value_counts()"
      ],
      "metadata": {
        "colab": {
          "base_uri": "https://localhost:8080/"
        },
        "id": "Q_f9QVFtPRFf",
        "outputId": "eeff64ca-2aaa-410e-907f-28392a7839de"
      },
      "execution_count": 22,
      "outputs": [
        {
          "output_type": "execute_result",
          "data": {
            "text/plain": [
              "TA    2602\n",
              "Gd     122\n",
              "Fa     104\n",
              "Po       5\n",
              "Name: BsmtCond, dtype: int64"
            ]
          },
          "metadata": {},
          "execution_count": 22
        }
      ]
    },
    {
      "cell_type": "code",
      "source": [
        "all_df['BsmtCond'].mode()[0]"
      ],
      "metadata": {
        "colab": {
          "base_uri": "https://localhost:8080/",
          "height": 35
        },
        "id": "3N2pLvO4QZWp",
        "outputId": "087e133c-49f3-4ae5-b6b3-924526d9d416"
      },
      "execution_count": 23,
      "outputs": [
        {
          "output_type": "execute_result",
          "data": {
            "text/plain": [
              "'TA'"
            ],
            "application/vnd.google.colaboratory.intrinsic+json": {
              "type": "string"
            }
          },
          "metadata": {},
          "execution_count": 23
        }
      ]
    },
    {
      "cell_type": "code",
      "source": [
        "# all_df_sel = all_df.select_dtypes(['object']).columns\n",
        "# all_df_sel"
      ],
      "metadata": {
        "id": "CrwezwFJQhw-"
      },
      "execution_count": 24,
      "outputs": []
    },
    {
      "cell_type": "code",
      "source": [
        "# object 컬럼만 추출\n",
        "# 반복문 코드를 짠다"
      ],
      "metadata": {
        "id": "v9Gu3eRXRabV"
      },
      "execution_count": 25,
      "outputs": []
    },
    {
      "cell_type": "code",
      "source": [
        "# for col in all_df_sel:\n",
        "#   all_df[col] = all_df[col].mode()[0]"
      ],
      "metadata": {
        "id": "D42YweCEQywN"
      },
      "execution_count": 26,
      "outputs": []
    },
    {
      "cell_type": "code",
      "source": [
        "import numpy as np\n",
        "# 문자열 컬럼만 추출\n",
        "cat_all_vars = all_df.select_dtypes(exclude = [np.number])\n",
        "cat_all_vars = list(cat_all_vars)\n",
        "\n",
        "# 빈도수 추출 후, 결측치 추가\n",
        "# fillna()\n",
        "for i in cat_all_vars:\n",
        "  all_df[i] = all_df[i].fillna(all_df[i].mode()[0])"
      ],
      "metadata": {
        "id": "r-K5O4Kc3b3C"
      },
      "execution_count": 27,
      "outputs": []
    },
    {
      "cell_type": "code",
      "source": [
        "check_na(all_df)"
      ],
      "metadata": {
        "colab": {
          "base_uri": "https://localhost:8080/"
        },
        "id": "XjDCu2oZ3tdr",
        "outputId": "20fc6750-f475-4e0a-d08f-3df6e4f2958c"
      },
      "execution_count": 28,
      "outputs": [
        {
          "output_type": "stream",
          "name": "stdout",
          "text": [
            "결측치 데이터 컬럼과 건수:\n",
            "               Missing Ratio Data Type\n",
            "GarageYrBlt        5.456417   float64\n",
            "MasVnrArea         0.789293   float64\n",
            "BsmtFullBath       0.068634   float64\n",
            "BsmtHalfBath       0.068634   float64\n",
            "BsmtFinSF1         0.034317   float64\n",
            "BsmtFinSF2         0.034317   float64\n"
          ]
        }
      ]
    },
    {
      "cell_type": "code",
      "source": [
        "# 수치 데이터 채울 수 있다.\n",
        "# 평균, 중간값 / 중간값으로 한다.\n",
        "\n",
        "# 문자열 컬럼만 추출\n",
        "num_all_vars = all_df.select_dtypes(include = [np.number])\n",
        "num_all_vars = list(num_all_vars)\n",
        "\n",
        "# 빈도수 추출 후, 결측치 추가\n",
        "# fillna()\n",
        "for i in num_all_vars:\n",
        "  all_df[i] = all_df[i].fillna(all_df[i].median())\n",
        "\n",
        "check_na(all_df)"
      ],
      "metadata": {
        "colab": {
          "base_uri": "https://localhost:8080/"
        },
        "id": "chDIjA3O4uiM",
        "outputId": "21306f49-8b52-46e8-de9b-1d5b52de6e12"
      },
      "execution_count": 29,
      "outputs": [
        {
          "output_type": "stream",
          "name": "stdout",
          "text": [
            "결측치 데이터 컬럼과 건수:\n",
            " Empty DataFrame\n",
            "Columns: [Missing Ratio, Data Type]\n",
            "Index: []\n"
          ]
        }
      ]
    },
    {
      "cell_type": "code",
      "source": [
        "check_na(all_df)"
      ],
      "metadata": {
        "colab": {
          "base_uri": "https://localhost:8080/"
        },
        "id": "RYbiejoq6CSb",
        "outputId": "dd4474ba-7201-4865-9192-e6b4e2dff24e"
      },
      "execution_count": 30,
      "outputs": [
        {
          "output_type": "stream",
          "name": "stdout",
          "text": [
            "결측치 데이터 컬럼과 건수:\n",
            " Empty DataFrame\n",
            "Columns: [Missing Ratio, Data Type]\n",
            "Index: []\n"
          ]
        }
      ]
    },
    {
      "cell_type": "code",
      "source": [
        "all_df.info()"
      ],
      "metadata": {
        "colab": {
          "base_uri": "https://localhost:8080/"
        },
        "id": "a6Owy0yY6E4a",
        "outputId": "8aa1737e-63a9-4c20-e8eb-4a05612a150f"
      },
      "execution_count": 31,
      "outputs": [
        {
          "output_type": "stream",
          "name": "stdout",
          "text": [
            "<class 'pandas.core.frame.DataFrame'>\n",
            "RangeIndex: 2914 entries, 0 to 2913\n",
            "Data columns (total 73 columns):\n",
            " #   Column         Non-Null Count  Dtype  \n",
            "---  ------         --------------  -----  \n",
            " 0   MSSubClass     2914 non-null   int64  \n",
            " 1   MSZoning       2914 non-null   object \n",
            " 2   LotArea        2914 non-null   int64  \n",
            " 3   Street         2914 non-null   object \n",
            " 4   LotShape       2914 non-null   object \n",
            " 5   LandContour    2914 non-null   object \n",
            " 6   Utilities      2914 non-null   object \n",
            " 7   LotConfig      2914 non-null   object \n",
            " 8   LandSlope      2914 non-null   object \n",
            " 9   Neighborhood   2914 non-null   object \n",
            " 10  Condition1     2914 non-null   object \n",
            " 11  Condition2     2914 non-null   object \n",
            " 12  BldgType       2914 non-null   object \n",
            " 13  HouseStyle     2914 non-null   object \n",
            " 14  OverallQual    2914 non-null   int64  \n",
            " 15  OverallCond    2914 non-null   int64  \n",
            " 16  YearBuilt      2914 non-null   int64  \n",
            " 17  YearRemodAdd   2914 non-null   int64  \n",
            " 18  RoofStyle      2914 non-null   object \n",
            " 19  RoofMatl       2914 non-null   object \n",
            " 20  Exterior1st    2914 non-null   object \n",
            " 21  Exterior2nd    2914 non-null   object \n",
            " 22  MasVnrType     2914 non-null   object \n",
            " 23  MasVnrArea     2914 non-null   float64\n",
            " 24  ExterQual      2914 non-null   object \n",
            " 25  ExterCond      2914 non-null   object \n",
            " 26  Foundation     2914 non-null   object \n",
            " 27  BsmtQual       2914 non-null   object \n",
            " 28  BsmtCond       2914 non-null   object \n",
            " 29  BsmtExposure   2914 non-null   object \n",
            " 30  BsmtFinType1   2914 non-null   object \n",
            " 31  BsmtFinSF1     2914 non-null   float64\n",
            " 32  BsmtFinType2   2914 non-null   object \n",
            " 33  BsmtFinSF2     2914 non-null   float64\n",
            " 34  BsmtUnfSF      2914 non-null   float64\n",
            " 35  TotalBsmtSF    2914 non-null   float64\n",
            " 36  Heating        2914 non-null   object \n",
            " 37  HeatingQC      2914 non-null   object \n",
            " 38  CentralAir     2914 non-null   object \n",
            " 39  Electrical     2914 non-null   object \n",
            " 40  1stFlrSF       2914 non-null   int64  \n",
            " 41  2ndFlrSF       2914 non-null   int64  \n",
            " 42  LowQualFinSF   2914 non-null   int64  \n",
            " 43  GrLivArea      2914 non-null   int64  \n",
            " 44  BsmtFullBath   2914 non-null   float64\n",
            " 45  BsmtHalfBath   2914 non-null   float64\n",
            " 46  FullBath       2914 non-null   int64  \n",
            " 47  HalfBath       2914 non-null   int64  \n",
            " 48  BedroomAbvGr   2914 non-null   int64  \n",
            " 49  KitchenAbvGr   2914 non-null   int64  \n",
            " 50  KitchenQual    2914 non-null   object \n",
            " 51  TotRmsAbvGrd   2914 non-null   int64  \n",
            " 52  Functional     2914 non-null   object \n",
            " 53  Fireplaces     2914 non-null   int64  \n",
            " 54  GarageType     2914 non-null   object \n",
            " 55  GarageYrBlt    2914 non-null   float64\n",
            " 56  GarageFinish   2914 non-null   object \n",
            " 57  GarageCars     2914 non-null   float64\n",
            " 58  GarageArea     2914 non-null   float64\n",
            " 59  GarageQual     2914 non-null   object \n",
            " 60  GarageCond     2914 non-null   object \n",
            " 61  PavedDrive     2914 non-null   object \n",
            " 62  WoodDeckSF     2914 non-null   int64  \n",
            " 63  OpenPorchSF    2914 non-null   int64  \n",
            " 64  EnclosedPorch  2914 non-null   int64  \n",
            " 65  3SsnPorch      2914 non-null   int64  \n",
            " 66  ScreenPorch    2914 non-null   int64  \n",
            " 67  PoolArea       2914 non-null   int64  \n",
            " 68  MiscVal        2914 non-null   int64  \n",
            " 69  MoSold         2914 non-null   int64  \n",
            " 70  YrSold         2914 non-null   int64  \n",
            " 71  SaleType       2914 non-null   object \n",
            " 72  SaleCondition  2914 non-null   object \n",
            "dtypes: float64(10), int64(25), object(38)\n",
            "memory usage: 1.6+ MB\n"
          ]
        }
      ]
    },
    {
      "cell_type": "markdown",
      "source": [
        "## 도출변수(파생변수, Derived Variable)\n",
        "- 실무에선 몇 달을 씨름\n"
      ],
      "metadata": {
        "id": "cIb22ej66Nuc"
      }
    },
    {
      "cell_type": "markdown",
      "source": [
        "- 성별 분류 모델\n",
        "- 암첫의 사이즈, 생김새 등등\n",
        "- 수컷의 크기, 무게, 높이"
      ],
      "metadata": {
        "id": "fKtazK7z6gB7"
      }
    },
    {
      "cell_type": "markdown",
      "source": [
        "- 통계 vs 머신러닝\n",
        "    - 통계 : 현재 상황을 진단\n",
        "    - 머신러닝 : 예측"
      ],
      "metadata": {
        "id": "knlkhRjRFsLS"
      }
    },
    {
      "cell_type": "code",
      "source": [
        "all_df['TotalSF'] = all_df['TotalBsmtSF'] + all_df['1stFlrSF'] + all_df['2ndFlrSF']    # 파생변수 생성\n",
        "all_df = all_df.drop(['TotalBsmtSF', '1stFlrSF', '2ndFlrSF'], axis=1)    # 파생변수 생성에 쓰인 컬럼들 삭제\n",
        "print(all_df.shape)"
      ],
      "metadata": {
        "colab": {
          "base_uri": "https://localhost:8080/"
        },
        "id": "K4mrdPXO9omz",
        "outputId": "961bc90d-5efd-4340-df03-ac8eedd287f0"
      },
      "execution_count": 32,
      "outputs": [
        {
          "output_type": "stream",
          "name": "stdout",
          "text": [
            "(2914, 71)\n"
          ]
        }
      ]
    },
    {
      "cell_type": "code",
      "source": [
        "all_df['Total_Bathrooms'] = (all_df['FullBath'] + (0.5 * all_df['HalfBath']) + all_df['BsmtFullBath'] + (0.5 * all_df['BsmtHalfBath']))\n",
        "all_df['Total_porch_sf'] = (all_df['OpenPorchSF'] + all_df['3SsnPorch'] + all_df['EnclosedPorch'] + all_df['ScreenPorch'])\n",
        "all_df = all_df.drop(['FullBath', 'HalfBath', 'BsmtFullBath', 'BsmtHalfBath', 'OpenPorchSF', '3SsnPorch', 'EnclosedPorch', 'ScreenPorch'], axis=1)\n",
        "print(all_df.shape)"
      ],
      "metadata": {
        "colab": {
          "base_uri": "https://localhost:8080/"
        },
        "id": "N-7nzhNA94Rw",
        "outputId": "b31fd4d4-b59c-4bc9-ffab-e198f3ac40a0"
      },
      "execution_count": 33,
      "outputs": [
        {
          "output_type": "stream",
          "name": "stdout",
          "text": [
            "(2914, 65)\n"
          ]
        }
      ]
    },
    {
      "cell_type": "code",
      "source": [
        "# year 도출 변수\n",
        "year_features = ['YearBuilt', 'YearRemodAdd', 'GarageYrBlt', 'YrSold']\n",
        "\n",
        "fig, ax = plt.subplots(3, 1, figsize = (10,6), sharex=True, sharey=True)\n",
        "for i,var in enumerate(year_features):\n",
        "    if var != 'YrSold':\n",
        "        ax[i].scatter(train[var], y, alpha=0.3)\n",
        "        ax[i].set_title(f'{var}', size = 15)\n",
        "        ax[i].set_ylabel('SalePrice', size = 15, labelpad = 12.5)\n",
        "\n",
        "plt.tight_layout()\n",
        "plt.show()  # 그래프가 비슷한 양상을 보이고 있으면 모두 보여줄 필요가 없다"
      ],
      "metadata": {
        "id": "zhPlacKJ-RsD",
        "colab": {
          "base_uri": "https://localhost:8080/",
          "height": 607
        },
        "outputId": "b2fbd574-1890-43c6-fd37-a36c340bd641"
      },
      "execution_count": 34,
      "outputs": [
        {
          "output_type": "display_data",
          "data": {
            "text/plain": [
              "<Figure size 1000x600 with 3 Axes>"
            ],
            "image/png": "[encoded data removed]"
          },
          "metadata": {}
        }
      ]
    },
    {
      "cell_type": "markdown",
      "source": [
        "- 연도가 최근일수록 산점도는 우상향을 나타내고 있음을 확인"
      ],
      "metadata": {
        "id": "6snnV5HXGWjQ"
      }
    },
    {
      "cell_type": "code",
      "source": [
        "all_df = all_df.drop(['YearBuilt','GarageYrBlt' ], axis = 1)\n",
        "all_df.shape"
      ],
      "metadata": {
        "colab": {
          "base_uri": "https://localhost:8080/"
        },
        "id": "2YHj1kemGi1l",
        "outputId": "9ed24bc1-7982-489b-9c8a-c2532911ab36"
      },
      "execution_count": 35,
      "outputs": [
        {
          "output_type": "execute_result",
          "data": {
            "text/plain": [
              "(2914, 63)"
            ]
          },
          "metadata": {},
          "execution_count": 35
        }
      ]
    },
    {
      "cell_type": "code",
      "source": [
        "# YrSold : 판매된 연도\n",
        "# 리모델링 연도 /  판매된 연도, 차이를 구할 수 있음\n",
        "\n",
        "YearsSinceRemodel = train['YrSold'].astype(int) - train['YearRemodAdd'].astype(int)   # 팔린 연도 - 리모델링 연도(차이구하기)\n",
        "\n",
        "fig, ax = plt.subplots(figsize = (10,6))\n",
        "ax.scatter(YearsSinceRemodel, y, alpha=0.3)\n",
        "\n",
        "plt.show()   # YearsSinceRemodel가 유의미한 데이터를 보이고 있음(채택함)"
      ],
      "metadata": {
        "colab": {
          "base_uri": "https://localhost:8080/",
          "height": 522
        },
        "id": "EAwhDAusG4CI",
        "outputId": "34dd8ec2-9e8f-4577-f9aa-b1729184be37"
      },
      "execution_count": 36,
      "outputs": [
        {
          "output_type": "display_data",
          "data": {
            "text/plain": [
              "<Figure size 1000x600 with 1 Axes>"
            ],
            "image/png": "[encoded data removed]"
          },
          "metadata": {}
        }
      ]
    },
    {
      "cell_type": "code",
      "source": [
        "all_df['YearsSinceRemodel'] = all_df['YrSold'].astype(int) - all_df['YearRemodAdd'].astype(int)\n",
        "all_df = all_df.drop(['YrSold', 'YearRemodAdd'], axis = 1)\n",
        "all_df.shape"
      ],
      "metadata": {
        "colab": {
          "base_uri": "https://localhost:8080/"
        },
        "id": "tJUdhMNaHzX8",
        "outputId": "a3ac9257-4209-44f6-8573-9bf6c831486a"
      },
      "execution_count": 37,
      "outputs": [
        {
          "output_type": "execute_result",
          "data": {
            "text/plain": [
              "(2914, 62)"
            ]
          },
          "metadata": {},
          "execution_count": 37
        }
      ]
    },
    {
      "cell_type": "markdown",
      "source": [
        "## 더미변수\n",
        "- 0과 1로 변환"
      ],
      "metadata": {
        "id": "JTUfhFhbKmU3"
      }
    },
    {
      "cell_type": "code",
      "source": [
        "train[\"PoolArea\"].value_counts()"
      ],
      "metadata": {
        "colab": {
          "base_uri": "https://localhost:8080/"
        },
        "id": "m03J-IaKKsWV",
        "outputId": "7f574aa5-18d6-4afc-e29d-284284469027"
      },
      "execution_count": 38,
      "outputs": [
        {
          "output_type": "execute_result",
          "data": {
            "text/plain": [
              "0      1448\n",
              "512       1\n",
              "648       1\n",
              "576       1\n",
              "555       1\n",
              "480       1\n",
              "519       1\n",
              "738       1\n",
              "Name: PoolArea, dtype: int64"
            ]
          },
          "metadata": {},
          "execution_count": 38
        }
      ]
    },
    {
      "cell_type": "code",
      "source": [
        "def count_dummy(x):\n",
        "    if x > 0:\n",
        "        return 1\n",
        "    else:\n",
        "        return 0"
      ],
      "metadata": {
        "id": "fG0QGLpSMgSc"
      },
      "execution_count": 39,
      "outputs": []
    },
    {
      "cell_type": "code",
      "source": [
        "all_df['PoolArea'] = all_df['PoolArea'].apply(count_dummy)   # pandas에서 apply = 반복문의 기능을 가진 내장 메소드\n",
        "all_df['PoolArea'].value_counts()"
      ],
      "metadata": {
        "colab": {
          "base_uri": "https://localhost:8080/"
        },
        "id": "be3Hd-5DMp8J",
        "outputId": "87e9d525-98a3-4c61-c282-30319e4f55a6"
      },
      "execution_count": 40,
      "outputs": [
        {
          "output_type": "execute_result",
          "data": {
            "text/plain": [
              "0    2901\n",
              "1      13\n",
              "Name: PoolArea, dtype: int64"
            ]
          },
          "metadata": {},
          "execution_count": 40
        }
      ]
    },
    {
      "cell_type": "code",
      "source": [
        "all_df['GarageArea'] = all_df['GarageArea'].apply(count_dummy)\n",
        "all_df['GarageArea'].value_counts()"
      ],
      "metadata": {
        "colab": {
          "base_uri": "https://localhost:8080/"
        },
        "id": "kpUkwYpvQuHG",
        "outputId": "6aa28759-dee8-4e78-9beb-5c39ad737c5b"
      },
      "execution_count": 41,
      "outputs": [
        {
          "output_type": "execute_result",
          "data": {
            "text/plain": [
              "1    2757\n",
              "0     157\n",
              "Name: GarageArea, dtype: int64"
            ]
          },
          "metadata": {},
          "execution_count": 41
        }
      ]
    },
    {
      "cell_type": "code",
      "source": [
        "all_df['Fireplaces'].value_counts()"
      ],
      "metadata": {
        "colab": {
          "base_uri": "https://localhost:8080/"
        },
        "id": "YyjBlku8RZyY",
        "outputId": "182a08f1-5c24-4a8c-f111-f55e385e47f7"
      },
      "execution_count": 42,
      "outputs": [
        {
          "output_type": "execute_result",
          "data": {
            "text/plain": [
              "0    1416\n",
              "1    1267\n",
              "2     219\n",
              "3      11\n",
              "4       1\n",
              "Name: Fireplaces, dtype: int64"
            ]
          },
          "metadata": {},
          "execution_count": 42
        }
      ]
    },
    {
      "cell_type": "code",
      "source": [
        "all_df['Fireplaces'] = all_df['Fireplaces'].apply(count_dummy)\n",
        "all_df['Fireplaces'].value_counts()"
      ],
      "metadata": {
        "colab": {
          "base_uri": "https://localhost:8080/"
        },
        "id": "n9x3awFIRsoD",
        "outputId": "98dc815d-59cd-457d-ee38-f2c26f6b2b4d"
      },
      "execution_count": 43,
      "outputs": [
        {
          "output_type": "execute_result",
          "data": {
            "text/plain": [
              "1    1498\n",
              "0    1416\n",
              "Name: Fireplaces, dtype: int64"
            ]
          },
          "metadata": {},
          "execution_count": 43
        }
      ]
    },
    {
      "cell_type": "markdown",
      "source": [
        "## 문자 데이터\n",
        "- 명목형\n",
        "- 서열형\n",
        "     - 서열형(ex.등급제) : Label Encoding, Orinal Encoding\n",
        "        - Lable = 종속변수\n",
        "        - Ordinal = 독립변수\n",
        "     - 명목형(ex.성별) : One-Hot Encoding"
      ],
      "metadata": {
        "id": "iODoJabFdcu_"
      }
    },
    {
      "cell_type": "markdown",
      "source": [
        "## 원핫 인코딩(One-Hot Encoding)\n"
      ],
      "metadata": {
        "id": "zgxzBFC2Yugg"
      }
    },
    {
      "cell_type": "code",
      "source": [
        "all_df.shape"
      ],
      "metadata": {
        "colab": {
          "base_uri": "https://localhost:8080/"
        },
        "id": "fbzWIZyRYzBc",
        "outputId": "d9d4606a-03b6-4834-b64e-92e02312a24c"
      },
      "execution_count": 44,
      "outputs": [
        {
          "output_type": "execute_result",
          "data": {
            "text/plain": [
              "(2914, 62)"
            ]
          },
          "metadata": {},
          "execution_count": 44
        }
      ]
    },
    {
      "cell_type": "code",
      "source": [
        "import pandas as pd\n",
        "all_df = pd.get_dummies(all_df).reset_index(drop=True)\n",
        "all_df.shape"
      ],
      "metadata": {
        "colab": {
          "base_uri": "https://localhost:8080/"
        },
        "id": "hibBSGk0Y1n1",
        "outputId": "db816525-b034-4dd9-be4f-2108743f1d0d"
      },
      "execution_count": 45,
      "outputs": [
        {
          "output_type": "execute_result",
          "data": {
            "text/plain": [
              "(2914, 258)"
            ]
          },
          "metadata": {},
          "execution_count": 45
        }
      ]
    },
    {
      "cell_type": "code",
      "source": [
        "all_df.head(3)"
      ],
      "metadata": {
        "colab": {
          "base_uri": "https://localhost:8080/",
          "height": 237
        },
        "id": "bswW8Qw-ZB2Y",
        "outputId": "eff8cbf6-9b5c-43f6-de6c-b6c830018a4b"
      },
      "execution_count": 46,
      "outputs": [
        {
          "output_type": "execute_result",
          "data": {
            "text/plain": [
              "   MSSubClass  LotArea  OverallQual  OverallCond  MasVnrArea  BsmtFinSF1  \\\n",
              "0          60     8450            7            5       196.0       706.0   \n",
              "1          20     9600            6            8         0.0       978.0   \n",
              "2          60    11250            7            5       162.0       486.0   \n",
              "\n",
              "   BsmtFinSF2  BsmtUnfSF  LowQualFinSF  GrLivArea  ...  SaleType_ConLw  \\\n",
              "0         0.0      150.0             0       1710  ...               0   \n",
              "1         0.0      284.0             0       1262  ...               0   \n",
              "2         0.0      434.0             0       1786  ...               0   \n",
              "\n",
              "   SaleType_New  SaleType_Oth  SaleType_WD  SaleCondition_Abnorml  \\\n",
              "0             0             0            1                      0   \n",
              "1             0             0            1                      0   \n",
              "2             0             0            1                      0   \n",
              "\n",
              "   SaleCondition_AdjLand  SaleCondition_Alloca  SaleCondition_Family  \\\n",
              "0                      0                     0                     0   \n",
              "1                      0                     0                     0   \n",
              "2                      0                     0                     0   \n",
              "\n",
              "   SaleCondition_Normal  SaleCondition_Partial  \n",
              "0                     1                      0  \n",
              "1                     1                      0  \n",
              "2                     1                      0  \n",
              "\n",
              "[3 rows x 258 columns]"
            ],
            "text/html": [
              "\n",
              "  <div id=\"df-999498e6-f9ec-406b-b364-da40e3c87370\">\n",
              "    <div class=\"colab-df-container\">\n",
              "      <div>\n",
              "<style scoped>\n",
              "    .dataframe tbody tr th:only-of-type {\n",
              "        vertical-align: middle;\n",
              "    }\n",
              "\n",
              "    .dataframe tbody tr th {\n",
              "        vertical-align: top;\n",
              "    }\n",
              "\n",
              "    .dataframe thead th {\n",
              "        text-align: right;\n",
              "    }\n",
              "</style>\n",
              "<table border=\"1\" class=\"dataframe\">\n",
              "  <thead>\n",
              "    <tr style=\"text-align: right;\">\n",
              "      <th></th>\n",
              "      <th>MSSubClass</th>\n",
              "      <th>LotArea</th>\n",
              "      <th>OverallQual</th>\n",
              "      <th>OverallCond</th>\n",
              "      <th>MasVnrArea</th>\n",
              "      <th>BsmtFinSF1</th>\n",
              "      <th>BsmtFinSF2</th>\n",
              "      <th>BsmtUnfSF</th>\n",
              "      <th>LowQualFinSF</th>\n",
              "      <th>GrLivArea</th>\n",
              "      <th>...</th>\n",
              "      <th>SaleType_ConLw</th>\n",
              "      <th>SaleType_New</th>\n",
              "      <th>SaleType_Oth</th>\n",
              "      <th>SaleType_WD</th>\n",
              "      <th>SaleCondition_Abnorml</th>\n",
              "      <th>SaleCondition_AdjLand</th>\n",
              "      <th>SaleCondition_Alloca</th>\n",
              "      <th>SaleCondition_Family</th>\n",
              "      <th>SaleCondition_Normal</th>\n",
              "      <th>SaleCondition_Partial</th>\n",
              "    </tr>\n",
              "  </thead>\n",
              "  <tbody>\n",
              "    <tr>\n",
              "      <th>0</th>\n",
              "      <td>60</td>\n",
              "      <td>8450</td>\n",
              "      <td>7</td>\n",
              "      <td>5</td>\n",
              "      <td>196.0</td>\n",
              "      <td>706.0</td>\n",
              "      <td>0.0</td>\n",
              "      <td>150.0</td>\n",
              "      <td>0</td>\n",
              "      <td>1710</td>\n",
              "      <td>...</td>\n",
              "      <td>0</td>\n",
              "      <td>0</td>\n",
              "      <td>0</td>\n",
              "      <td>1</td>\n",
              "      <td>0</td>\n",
              "      <td>0</td>\n",
              "      <td>0</td>\n",
              "      <td>0</td>\n",
              "      <td>1</td>\n",
              "      <td>0</td>\n",
              "    </tr>\n",
              "    <tr>\n",
              "      <th>1</th>\n",
              "      <td>20</td>\n",
              "      <td>9600</td>\n",
              "      <td>6</td>\n",
              "      <td>8</td>\n",
              "      <td>0.0</td>\n",
              "      <td>978.0</td>\n",
              "      <td>0.0</td>\n",
              "      <td>284.0</td>\n",
              "      <td>0</td>\n",
              "      <td>1262</td>\n",
              "      <td>...</td>\n",
              "      <td>0</td>\n",
              "      <td>0</td>\n",
              "      <td>0</td>\n",
              "      <td>1</td>\n",
              "      <td>0</td>\n",
              "      <td>0</td>\n",
              "      <td>0</td>\n",
              "      <td>0</td>\n",
              "      <td>1</td>\n",
              "      <td>0</td>\n",
              "    </tr>\n",
              "    <tr>\n",
              "      <th>2</th>\n",
              "      <td>60</td>\n",
              "      <td>11250</td>\n",
              "      <td>7</td>\n",
              "      <td>5</td>\n",
              "      <td>162.0</td>\n",
              "      <td>486.0</td>\n",
              "      <td>0.0</td>\n",
              "      <td>434.0</td>\n",
              "      <td>0</td>\n",
              "      <td>1786</td>\n",
              "      <td>...</td>\n",
              "      <td>0</td>\n",
              "      <td>0</td>\n",
              "      <td>0</td>\n",
              "      <td>1</td>\n",
              "      <td>0</td>\n",
              "      <td>0</td>\n",
              "      <td>0</td>\n",
              "      <td>0</td>\n",
              "      <td>1</td>\n",
              "      <td>0</td>\n",
              "    </tr>\n",
              "  </tbody>\n",
              "</table>\n",
              "<p>3 rows × 258 columns</p>\n",
              "</div>\n",
              "      <button class=\"colab-df-convert\" onclick=\"convertToInteractive('df-999498e6-f9ec-406b-b364-da40e3c87370')\"\n",
              "              title=\"Convert this dataframe to an interactive table.\"\n",
              "              style=\"display:none;\">\n",
              "        \n",
              "  <svg xmlns=\"http://www.w3.org/2000/svg\" height=\"24px\"viewBox=\"0 0 24 24\"\n",
              "       width=\"24px\">\n",
              "    <path d=\"M0 0h24v24H0V0z\" fill=\"none\"/>\n",
              "    <path d=\"M18.56 5.44l.94 2.06.94-2.06 2.06-.94-2.06-.94-.94-2.06-.94 2.06-2.06.94zm-11 1L8.5 8.5l.94-2.06 2.06-.94-2.06-.94L8.5 2.5l-.94 2.06-2.06.94zm10 10l.94 2.06.94-2.06 2.06-.94-2.06-.94-.94-2.06-.94 2.06-2.06.94z\"/><path d=\"M17.41 7.96l-1.37-1.37c-.4-.4-.92-.59-1.43-.59-.52 0-1.04.2-1.43.59L10.3 9.45l-7.72 7.72c-.78.78-.78 2.05 0 2.83L4 21.41c.39.39.9.59 1.41.59.51 0 1.02-.2 1.41-.59l7.78-7.78 2.81-2.81c.8-.78.8-2.07 0-2.86zM5.41 20L4 18.59l7.72-7.72 1.47 1.35L5.41 20z\"/>\n",
              "  </svg>\n",
              "      </button>\n",
              "      \n",
              "  <style>\n",
              "    .colab-df-container {\n",
              "      display:flex;\n",
              "      flex-wrap:wrap;\n",
              "      gap: 12px;\n",
              "    }\n",
              "\n",
              "    .colab-df-convert {\n",
              "      background-color: #E8F0FE;\n",
              "      border: none;\n",
              "      border-radius: 50%;\n",
              "      cursor: pointer;\n",
              "      display: none;\n",
              "      fill: #1967D2;\n",
              "      height: 32px;\n",
              "      padding: 0 0 0 0;\n",
              "      width: 32px;\n",
              "    }\n",
              "\n",
              "    .colab-df-convert:hover {\n",
              "      background-color: #E2EBFA;\n",
              "      box-shadow: 0px 1px 2px rgba(60, 64, 67, 0.3), 0px 1px 3px 1px rgba(60, 64, 67, 0.15);\n",
              "      fill: #174EA6;\n",
              "    }\n",
              "\n",
              "    [theme=dark] .colab-df-convert {\n",
              "      background-color: #3B4455;\n",
              "      fill: #D2E3FC;\n",
              "    }\n",
              "\n",
              "    [theme=dark] .colab-df-convert:hover {\n",
              "      background-color: #434B5C;\n",
              "      box-shadow: 0px 1px 3px 1px rgba(0, 0, 0, 0.15);\n",
              "      filter: drop-shadow(0px 1px 2px rgba(0, 0, 0, 0.3));\n",
              "      fill: #FFFFFF;\n",
              "    }\n",
              "  </style>\n",
              "\n",
              "      <script>\n",
              "        const buttonEl =\n",
              "          document.querySelector('#df-999498e6-f9ec-406b-b364-da40e3c87370 button.colab-df-convert');\n",
              "        buttonEl.style.display =\n",
              "          google.colab.kernel.accessAllowed ? 'block' : 'none';\n",
              "\n",
              "        async function convertToInteractive(key) {\n",
              "          const element = document.querySelector('#df-999498e6-f9ec-406b-b364-da40e3c87370');\n",
              "          const dataTable =\n",
              "            await google.colab.kernel.invokeFunction('convertToInteractive',\n",
              "                                                     [key], {});\n",
              "          if (!dataTable) return;\n",
              "\n",
              "          const docLinkHtml = 'Like what you see? Visit the ' +\n",
              "            '<a target=\"_blank\" href=https://colab.research.google.com/notebooks/data_table.ipynb>data table notebook</a>'\n",
              "            + ' to learn more about interactive tables.';\n",
              "          element.innerHTML = '';\n",
              "          dataTable['output_type'] = 'display_data';\n",
              "          await google.colab.output.renderOutput(dataTable, element);\n",
              "          const docLink = document.createElement('div');\n",
              "          docLink.innerHTML = docLinkHtml;\n",
              "          element.appendChild(docLink);\n",
              "        }\n",
              "      </script>\n",
              "    </div>\n",
              "  </div>\n",
              "  "
            ]
          },
          "metadata": {},
          "execution_count": 46
        }
      ]
    },
    {
      "cell_type": "markdown",
      "source": [
        "## 머신러닝 모형 학습"
      ],
      "metadata": {
        "id": "29B3DF9oU3Kq"
      }
    },
    {
      "cell_type": "code",
      "source": [
        "# all_df = train + test\n",
        "# train, test로 재분할\n",
        "\n",
        "X = all_df.iloc[:len(y), :]\n",
        "test = all_df.iloc[len(y):,:]\n",
        "X.shape, y.shape, test.shape"
      ],
      "metadata": {
        "colab": {
          "base_uri": "https://localhost:8080/"
        },
        "id": "vxfV6nMoZQgn",
        "outputId": "c5d6ff14-289a-4f02-83a0-2c1204365af7"
      },
      "execution_count": 47,
      "outputs": [
        {
          "output_type": "execute_result",
          "data": {
            "text/plain": [
              "((1455, 258), (1455,), (1459, 258))"
            ]
          },
          "metadata": {},
          "execution_count": 47
        }
      ]
    },
    {
      "cell_type": "markdown",
      "source": [
        "- train, validation 분리"
      ],
      "metadata": {
        "id": "qavAtnPaVYJp"
      }
    },
    {
      "cell_type": "code",
      "source": [
        "from sklearn.model_selection import train_test_split\n",
        "X_train, X_val, y_train, y_val = train_test_split(\n",
        "    X, y, test_size = 0.25, random_state = 42\n",
        ")\n",
        "\n",
        "X_train.shape, X_val.shape, y_train.shape, y_val.shape"
      ],
      "metadata": {
        "colab": {
          "base_uri": "https://localhost:8080/"
        },
        "id": "OOnEEmfvUvmu",
        "outputId": "e399610a-ecbf-4603-a371-bc9a3f5055f6"
      },
      "execution_count": 48,
      "outputs": [
        {
          "output_type": "execute_result",
          "data": {
            "text/plain": [
              "((1091, 258), (364, 258), (1091,), (364,))"
            ]
          },
          "metadata": {},
          "execution_count": 48
        }
      ]
    },
    {
      "cell_type": "markdown",
      "source": [
        "## RMSE with sklearn\n",
        "- RMSE 관련 함수는 존재하지 않아서, 추가로 만들었다."
      ],
      "metadata": {
        "id": "vPJpG8luYLoA"
      }
    },
    {
      "cell_type": "code",
      "source": [
        "from sklearn.metrics import mean_squared_error\n",
        "\n",
        "def rmse(y_true, y_pred):\n",
        "    return np.sqrt(mean_squared_error(y_true, y_pred))"
      ],
      "metadata": {
        "id": "0yiwOn-IV6JJ"
      },
      "execution_count": 49,
      "outputs": []
    },
    {
      "cell_type": "markdown",
      "source": [
        "## 교차검증\n",
        "- 목적\n",
        "    - 일반화된 성능 평가 != 정확도가 높다\n",
        "        - 성능이 좋다고 정확도가 높은게 아님\n",
        "    - 결과 왜곡을 방지하기 위해서\n",
        "\n",
        "- 교차검증의 단점\n",
        "    - 여러번 돌린다 -> 시간이 오래 걸린다\n",
        "    - 중심극한정리 = 데이터가 많이 쌓여도 분포의 모형이 어느정도 잡히면 크게 변하지 않는다\n",
        "- 층화추출 (데이터분석가 희망자)\n",
        "    - 블로그로 정리 (개념+용어+메소드+샘플코드)\n",
        "    - 갤럽 여론조사(https://www.gallup.co.kr/) 에서 참고"
      ],
      "metadata": {
        "id": "OtEMJiOOEyqv"
      }
    },
    {
      "cell_type": "code",
      "source": [
        "from sklearn.metrics import mean_squared_error\n",
        "from sklearn.model_selection import KFold, cross_val_score\n",
        "from sklearn.linear_model import LinearRegression\n",
        "\n",
        "def cv_rmse(model, n_folds=5):\n",
        "    cv = KFold(n_splits=n_folds, random_state=42, shuffle=True)\n",
        "    rmse_list = np.sqrt(-cross_val_score(model, X, y, scoring='neg_mean_squared_error', cv=cv))\n",
        "    print('CV RMSE value list:', np.round(rmse_list, 4))\n",
        "    print('CV RMSE mean value:', np.round(np.mean(rmse_list), 4))\n",
        "    return (rmse_list)\n",
        "\n",
        "n_folds = 5\n",
        "rmse_scores = {}\n",
        "lr_model = LinearRegression()"
      ],
      "metadata": {
        "id": "JQLUivUqYbgE"
      },
      "execution_count": 50,
      "outputs": []
    },
    {
      "cell_type": "code",
      "source": [
        "score = cv_rmse(lr_model, n_folds)\n",
        "print(\"linear regression - mean: {:.4f} (std: {:.4f})\".format(score.mean(), score.std()))\n",
        "rmse_scores['linear regression'] = (score.mean(), score.std())"
      ],
      "metadata": {
        "colab": {
          "base_uri": "https://localhost:8080/"
        },
        "id": "PQTWbSnSY_8P",
        "outputId": "528abc42-3c56-4c2f-bb0f-78124c37734c"
      },
      "execution_count": 51,
      "outputs": [
        {
          "output_type": "stream",
          "name": "stdout",
          "text": [
            "CV RMSE value list: [1.18800000e-01 1.15800000e-01 3.31655720e+03 1.17661993e+04\n",
            " 9.46703000e+01]\n",
            "CV RMSE mean value: 3035.5323\n",
            "linear regression - mean: 3035.5323 (std: 4547.0799)\n"
          ]
        }
      ]
    },
    {
      "cell_type": "code",
      "source": [
        "from sklearn.model_selection import cross_val_predict\n",
        "\n",
        "X = all_df.iloc[:len(y), :]\n",
        "X_test = all_df.iloc[len(y):, :]\n",
        "X.shape, y.shape, X_test.shape\n",
        "\n",
        "lr_model_fit = lr_model.fit(X, y)\n",
        "final_preds = np.floor(np.expm1(lr_model_fit.predict(X_test)))   # np.expm1 = 앞서 로그변환 한 값들을 지수변환하는 함수\n",
        "print(final_preds)"
      ],
      "metadata": {
        "id": "Z8m1FU7eB_Z-",
        "colab": {
          "base_uri": "https://localhost:8080/"
        },
        "outputId": "b540afd5-a2bf-456a-e7cb-5cd32577a744"
      },
      "execution_count": 52,
      "outputs": [
        {
          "output_type": "stream",
          "name": "stdout",
          "text": [
            "[114251. 156684. 182964. ... 168413. 111736. 220629.]\n"
          ]
        }
      ]
    },
    {
      "cell_type": "code",
      "source": [
        "submission = pd.read_csv(DATA_PATH + \"sample_submission.csv\")\n",
        "submission.iloc[:,1] = final_preds\n",
        "print(submission.head())\n",
        "submission.to_csv(\"The_first_regression.csv\", index=False)"
      ],
      "metadata": {
        "colab": {
          "base_uri": "https://localhost:8080/"
        },
        "id": "zbPyfgm6Cc_f",
        "outputId": "6e25d046-5947-46ac-e616-bfa53a3d40d9"
      },
      "execution_count": 53,
      "outputs": [
        {
          "output_type": "stream",
          "name": "stdout",
          "text": [
            "     Id  SalePrice\n",
            "0  1461   114251.0\n",
            "1  1462   156684.0\n",
            "2  1463   182964.0\n",
            "3  1464   198889.0\n",
            "4  1465   195310.0\n"
          ]
        }
      ]
    },
    {
      "cell_type": "markdown",
      "source": [
        "## 다른 모델 적용"
      ],
      "metadata": {
        "id": "qAGSSTpNOObl"
      }
    },
    {
      "cell_type": "code",
      "source": [
        "from sklearn.ensemble import RandomForestRegressor\n",
        "from sklearn.linear_model import LinearRegression\n",
        "from xgboost import XGBRegressor\n",
        "\n",
        "# 모델 정의\n",
        "lr_model = LinearRegression()\n",
        "score = cv_rmse(lr_model, n_folds)\n",
        "rmse_scores['linear regression'] = (score.mean(), score.std())\n",
        "\n",
        "# 모델 정의\n",
        "rf_model = RandomForestRegressor()\n",
        "score = cv_rmse(rf_model, n_folds)\n",
        "rmse_scores['random Forest'] = (score.mean(), score.std())\n",
        "\n",
        "# 모델 정의\n",
        "xg_model = XGBRegressor(objective='reg:squarederror',max_depth=3,random_state = 12)\n",
        "score = cv_rmse(xg_model, n_folds)\n",
        "rmse_scores['xgboost'] = (score.mean(), score.std())"
      ],
      "metadata": {
        "colab": {
          "base_uri": "https://localhost:8080/"
        },
        "id": "rQ0rq1KROPu_",
        "outputId": "8fb95105-f4c9-48ea-821e-8f5f27877028"
      },
      "execution_count": 54,
      "outputs": [
        {
          "output_type": "stream",
          "name": "stdout",
          "text": [
            "CV RMSE value list: [1.18800000e-01 1.15800000e-01 3.31655720e+03 1.17661993e+04\n",
            " 9.46703000e+01]\n",
            "CV RMSE mean value: 3035.5323\n",
            "CV RMSE value list: [0.1181 0.1167 0.1312 0.1366 0.1714]\n",
            "CV RMSE mean value: 0.1348\n"
          ]
        }
      ]
    },
    {
      "cell_type": "code",
      "source": [
        "rmse_scores  # 모델 두개 비교 - random forest가 좋음"
      ],
      "metadata": {
        "colab": {
          "base_uri": "https://localhost:8080/"
        },
        "id": "b6LNDEyzP-Jf",
        "outputId": "cb281fc1-2b95-43e9-df21-748b86b67ba2"
      },
      "execution_count": 55,
      "outputs": [
        {
          "output_type": "execute_result",
          "data": {
            "text/plain": [
              "{'linear regression': (3035.532296182903, 4547.079919212359),\n",
              " 'xgboost': (0.13480583568033508, 0.019808754678056456)}"
            ]
          },
          "metadata": {},
          "execution_count": 55
        }
      ]
    },
    {
      "cell_type": "code",
      "source": [
        "fig, ax = plt.subplots(figsize=(10, 6))\n",
        "ax = sns.pointplot(x=list(rmse_scores.keys()), y=[score for score, _ in rmse_scores.values()], markers=['o'], linestyles=['-'], ax=ax)\n",
        "plt.show()"
      ],
      "metadata": {
        "colab": {
          "base_uri": "https://localhost:8080/",
          "height": 522
        },
        "id": "X_nODPl5SMIQ",
        "outputId": "8269278c-82a8-4e28-d380-e8cb0b048320"
      },
      "execution_count": 56,
      "outputs": [
        {
          "output_type": "display_data",
          "data": {
            "text/plain": [
              "<Figure size 1000x600 with 1 Axes>"
            ],
            "image/png": "[encoded data removed]"
          },
          "metadata": {}
        }
      ]
    },
    {
      "cell_type": "code",
      "source": [
        "xg_model_fit = xg_model.fit(X, y)\n",
        "final_preds = np.floor(np.expm1(xg_model_fit.predict(X_test)))   # np.expm1 = 앞서 로그변환 한 값들을 지수변환하는 함수\n",
        "print(final_preds)"
      ],
      "metadata": {
        "colab": {
          "base_uri": "https://localhost:8080/"
        },
        "id": "aRsxRxHNQTvm",
        "outputId": "e59e67ec-9971-448f-ed0b-6a52b9759529"
      },
      "execution_count": 57,
      "outputs": [
        {
          "output_type": "stream",
          "name": "stdout",
          "text": [
            "[120293. 164629. 185702. ... 148613. 125873. 211562.]\n"
          ]
        }
      ]
    },
    {
      "cell_type": "code",
      "source": [
        "# 최종적인 모델 적용한 결과 csv로 저장\n",
        "\n",
        "submission = pd.read_csv(DATA_PATH + \"sample_submission.csv\")\n",
        "submission.iloc[:,1] = final_preds\n",
        "print(submission.head())\n",
        "submission.to_csv(\"xgboost_regression.csv\", index=False)"
      ],
      "metadata": {
        "colab": {
          "base_uri": "https://localhost:8080/"
        },
        "id": "S7eMe7TgRIiX",
        "outputId": "734bd47c-e6a3-4c04-e310-b09555d4b262"
      },
      "execution_count": 58,
      "outputs": [
        {
          "output_type": "stream",
          "name": "stdout",
          "text": [
            "     Id  SalePrice\n",
            "0  1461   120293.0\n",
            "1  1462   164629.0\n",
            "2  1463   185702.0\n",
            "3  1464   195090.0\n",
            "4  1465   162282.0\n"
          ]
        },
        {
          "output_type": "stream",
          "name": "stderr",
          "text": [
            "<ipython-input-58-266578432f6e>:2: DeprecationWarning: In a future version, `df.iloc[:, i] = newvals` will attempt to set the values inplace instead of always setting a new array. To retain the old behavior, use either `df[df.columns[i]] = newvals` or, if columns are non-unique, `df.isetitem(i, newvals)`\n",
            "  submission.iloc[:,1] = final_preds\n"
          ]
        }
      ]
    }
  ]
}